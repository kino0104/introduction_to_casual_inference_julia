{
 "cells": [
  {
   "cell_type": "code",
   "execution_count": 51,
   "metadata": {},
   "outputs": [
    {
     "name": "stdout",
     "output_type": "stream",
     "text": [
      "\u001b[32m\u001b[1m Resolving\u001b[22m\u001b[39m package versions...\n",
      "\u001b[32m\u001b[1m  Updating\u001b[22m\u001b[39m `~/.julia/Project.toml`\n",
      "\u001b[90m [no changes]\u001b[39m\n",
      "\u001b[32m\u001b[1m  Updating\u001b[22m\u001b[39m `~/.julia/Manifest.toml`\n",
      "\u001b[90m [no changes]\u001b[39m\n",
      "\u001b[32m\u001b[1m Resolving\u001b[22m\u001b[39m package versions...\n",
      "\u001b[32m\u001b[1m  Updating\u001b[22m\u001b[39m `~/.julia/Project.toml`\n",
      "\u001b[90m [no changes]\u001b[39m\n",
      "\u001b[32m\u001b[1m  Updating\u001b[22m\u001b[39m `~/.julia/Manifest.toml`\n",
      "\u001b[90m [no changes]\u001b[39m\n",
      "\u001b[32m\u001b[1m Resolving\u001b[22m\u001b[39m package versions...\n",
      "\u001b[32m\u001b[1m  Updating\u001b[22m\u001b[39m `~/.julia/Project.toml`\n",
      "\u001b[90m [no changes]\u001b[39m\n",
      "\u001b[32m\u001b[1m  Updating\u001b[22m\u001b[39m `~/.julia/Manifest.toml`\n",
      "\u001b[90m [no changes]\u001b[39m\n"
     ]
    }
   ],
   "source": [
    "# (1)(2) ライブラリの読み出し\n",
    "using Pkg\n",
    "Pkg.add(\"DataFramesMeta\")\n",
    "Pkg.add(\"CSV\")\n",
    "Pkg.add(\"Missings\")\n",
    "using CSV, DataFrames, DataFramesMeta, Statistics, HypothesisTests, Missings, Random"
   ]
  },
  {
   "cell_type": "code",
   "execution_count": 52,
   "metadata": {},
   "outputs": [
    {
     "name": "stderr",
     "output_type": "stream",
     "text": [
      "  % Total    % Received % Xferd  Average Speed   Time    Time     Time  Current\n",
      "                                 Dload  Upload   Total   Spent    Left  Speed\n",
      "100 3872k  100 3872k    0     0  4750k      0 --:--:-- --:--:-- --:--:-- 4750k\n"
     ]
    },
    {
     "data": {
      "text/html": [
       "<table class=\"data-frame\"><thead><tr><th></th><th>recency</th><th>history_segment</th><th>history</th><th>mens</th><th>womens</th><th>zip_code</th><th>newbie</th><th>channel</th><th>segment</th><th>visit</th><th>conversion</th><th>spend</th></tr><tr><th></th><th>Int64⍰</th><th>String⍰</th><th>Float64⍰</th><th>Int64⍰</th><th>Int64⍰</th><th>String⍰</th><th>Int64⍰</th><th>String⍰</th><th>String⍰</th><th>Int64⍰</th><th>Int64⍰</th><th>Float64⍰</th></tr></thead><tbody><p>64,000 rows × 12 columns</p><tr><th>1</th><td>10</td><td>2) $100 - $200</td><td>142.44</td><td>1</td><td>0</td><td>Surburban</td><td>0</td><td>Phone</td><td>Womens E-Mail</td><td>0</td><td>0</td><td>0.0</td></tr><tr><th>2</th><td>6</td><td>3) $200 - $350</td><td>329.08</td><td>1</td><td>1</td><td>Rural</td><td>1</td><td>Web</td><td>No E-Mail</td><td>0</td><td>0</td><td>0.0</td></tr><tr><th>3</th><td>7</td><td>2) $100 - $200</td><td>180.65</td><td>0</td><td>1</td><td>Surburban</td><td>1</td><td>Web</td><td>Womens E-Mail</td><td>0</td><td>0</td><td>0.0</td></tr><tr><th>4</th><td>9</td><td>5) $500 - $750</td><td>675.83</td><td>1</td><td>0</td><td>Rural</td><td>1</td><td>Web</td><td>Mens E-Mail</td><td>0</td><td>0</td><td>0.0</td></tr><tr><th>5</th><td>2</td><td>1) $0 - $100</td><td>45.34</td><td>1</td><td>0</td><td>Urban</td><td>0</td><td>Web</td><td>Womens E-Mail</td><td>0</td><td>0</td><td>0.0</td></tr><tr><th>6</th><td>6</td><td>2) $100 - $200</td><td>134.83</td><td>0</td><td>1</td><td>Surburban</td><td>0</td><td>Phone</td><td>Womens E-Mail</td><td>1</td><td>0</td><td>0.0</td></tr><tr><th>7</th><td>9</td><td>3) $200 - $350</td><td>280.2</td><td>1</td><td>0</td><td>Surburban</td><td>1</td><td>Phone</td><td>Womens E-Mail</td><td>0</td><td>0</td><td>0.0</td></tr><tr><th>8</th><td>9</td><td>1) $0 - $100</td><td>46.42</td><td>0</td><td>1</td><td>Urban</td><td>0</td><td>Phone</td><td>Womens E-Mail</td><td>0</td><td>0</td><td>0.0</td></tr><tr><th>9</th><td>9</td><td>5) $500 - $750</td><td>675.07</td><td>1</td><td>1</td><td>Rural</td><td>1</td><td>Phone</td><td>Mens E-Mail</td><td>0</td><td>0</td><td>0.0</td></tr><tr><th>10</th><td>10</td><td>1) $0 - $100</td><td>32.84</td><td>0</td><td>1</td><td>Urban</td><td>1</td><td>Web</td><td>Womens E-Mail</td><td>0</td><td>0</td><td>0.0</td></tr><tr><th>11</th><td>7</td><td>5) $500 - $750</td><td>548.91</td><td>0</td><td>1</td><td>Urban</td><td>1</td><td>Phone</td><td>Womens E-Mail</td><td>1</td><td>0</td><td>0.0</td></tr><tr><th>12</th><td>1</td><td>3) $200 - $350</td><td>211.45</td><td>0</td><td>1</td><td>Urban</td><td>1</td><td>Phone</td><td>Womens E-Mail</td><td>0</td><td>0</td><td>0.0</td></tr><tr><th>13</th><td>5</td><td>5) $500 - $750</td><td>642.9</td><td>0</td><td>1</td><td>Surburban</td><td>1</td><td>Multichannel</td><td>Womens E-Mail</td><td>0</td><td>0</td><td>0.0</td></tr><tr><th>14</th><td>2</td><td>2) $100 - $200</td><td>101.64</td><td>0</td><td>1</td><td>Urban</td><td>0</td><td>Web</td><td>Mens E-Mail</td><td>1</td><td>0</td><td>0.0</td></tr><tr><th>15</th><td>4</td><td>3) $200 - $350</td><td>241.42</td><td>0</td><td>1</td><td>Rural</td><td>1</td><td>Multichannel</td><td>No E-Mail</td><td>0</td><td>0</td><td>0.0</td></tr><tr><th>16</th><td>3</td><td>1) $0 - $100</td><td>58.13</td><td>1</td><td>0</td><td>Urban</td><td>1</td><td>Web</td><td>No E-Mail</td><td>1</td><td>0</td><td>0.0</td></tr><tr><th>17</th><td>5</td><td>1) $0 - $100</td><td>29.99</td><td>1</td><td>0</td><td>Surburban</td><td>0</td><td>Phone</td><td>Mens E-Mail</td><td>0</td><td>0</td><td>0.0</td></tr><tr><th>18</th><td>9</td><td>2) $100 - $200</td><td>112.35</td><td>1</td><td>0</td><td>Rural</td><td>0</td><td>Web</td><td>Mens E-Mail</td><td>0</td><td>0</td><td>0.0</td></tr><tr><th>19</th><td>11</td><td>3) $200 - $350</td><td>219.04</td><td>1</td><td>1</td><td>Surburban</td><td>0</td><td>Phone</td><td>Mens E-Mail</td><td>0</td><td>0</td><td>0.0</td></tr><tr><th>20</th><td>5</td><td>6) $750 - $1,000</td><td>828.42</td><td>1</td><td>0</td><td>Surburban</td><td>1</td><td>Multichannel</td><td>Mens E-Mail</td><td>0</td><td>0</td><td>0.0</td></tr><tr><th>21</th><td>9</td><td>1) $0 - $100</td><td>29.99</td><td>0</td><td>1</td><td>Surburban</td><td>1</td><td>Phone</td><td>No E-Mail</td><td>0</td><td>0</td><td>0.0</td></tr><tr><th>22</th><td>11</td><td>2) $100 - $200</td><td>182.32</td><td>1</td><td>0</td><td>Surburban</td><td>0</td><td>Phone</td><td>Mens E-Mail</td><td>0</td><td>0</td><td>0.0</td></tr><tr><th>23</th><td>2</td><td>2) $100 - $200</td><td>118.4</td><td>1</td><td>0</td><td>Surburban</td><td>0</td><td>Web</td><td>Mens E-Mail</td><td>1</td><td>0</td><td>0.0</td></tr><tr><th>24</th><td>2</td><td>1) $0 - $100</td><td>29.99</td><td>0</td><td>1</td><td>Urban</td><td>1</td><td>Phone</td><td>No E-Mail</td><td>0</td><td>0</td><td>0.0</td></tr><tr><th>25</th><td>4</td><td>1) $0 - $100</td><td>78.24</td><td>1</td><td>0</td><td>Surburban</td><td>0</td><td>Web</td><td>No E-Mail</td><td>0</td><td>0</td><td>0.0</td></tr><tr><th>26</th><td>6</td><td>2) $100 - $200</td><td>139.87</td><td>0</td><td>1</td><td>Rural</td><td>1</td><td>Web</td><td>Mens E-Mail</td><td>0</td><td>0</td><td>0.0</td></tr><tr><th>27</th><td>12</td><td>2) $100 - $200</td><td>115.39</td><td>0</td><td>1</td><td>Surburban</td><td>0</td><td>Phone</td><td>Mens E-Mail</td><td>1</td><td>0</td><td>0.0</td></tr><tr><th>28</th><td>6</td><td>2) $100 - $200</td><td>162.98</td><td>0</td><td>1</td><td>Surburban</td><td>0</td><td>Web</td><td>Mens E-Mail</td><td>0</td><td>0</td><td>0.0</td></tr><tr><th>29</th><td>7</td><td>4) $350 - $500</td><td>435.73</td><td>0</td><td>1</td><td>Urban</td><td>1</td><td>Web</td><td>No E-Mail</td><td>0</td><td>0</td><td>0.0</td></tr><tr><th>30</th><td>2</td><td>3) $200 - $350</td><td>203.35</td><td>1</td><td>0</td><td>Rural</td><td>0</td><td>Web</td><td>No E-Mail</td><td>0</td><td>0</td><td>0.0</td></tr><tr><th>&vellip;</th><td>&vellip;</td><td>&vellip;</td><td>&vellip;</td><td>&vellip;</td><td>&vellip;</td><td>&vellip;</td><td>&vellip;</td><td>&vellip;</td><td>&vellip;</td><td>&vellip;</td><td>&vellip;</td><td>&vellip;</td></tr></tbody></table>"
      ],
      "text/latex": [
       "\\begin{tabular}{r|cccccccccccc}\n",
       "\t& recency & history\\_segment & history & mens & womens & zip\\_code & newbie & channel & segment & visit & conversion & spend\\\\\n",
       "\t\\hline\n",
       "\t& Int64⍰ & String⍰ & Float64⍰ & Int64⍰ & Int64⍰ & String⍰ & Int64⍰ & String⍰ & String⍰ & Int64⍰ & Int64⍰ & Float64⍰\\\\\n",
       "\t\\hline\n",
       "\t1 & 10 & 2) \\$100 - \\$200 & 142.44 & 1 & 0 & Surburban & 0 & Phone & Womens E-Mail & 0 & 0 & 0.0 \\\\\n",
       "\t2 & 6 & 3) \\$200 - \\$350 & 329.08 & 1 & 1 & Rural & 1 & Web & No E-Mail & 0 & 0 & 0.0 \\\\\n",
       "\t3 & 7 & 2) \\$100 - \\$200 & 180.65 & 0 & 1 & Surburban & 1 & Web & Womens E-Mail & 0 & 0 & 0.0 \\\\\n",
       "\t4 & 9 & 5) \\$500 - \\$750 & 675.83 & 1 & 0 & Rural & 1 & Web & Mens E-Mail & 0 & 0 & 0.0 \\\\\n",
       "\t5 & 2 & 1) \\$0 - \\$100 & 45.34 & 1 & 0 & Urban & 0 & Web & Womens E-Mail & 0 & 0 & 0.0 \\\\\n",
       "\t6 & 6 & 2) \\$100 - \\$200 & 134.83 & 0 & 1 & Surburban & 0 & Phone & Womens E-Mail & 1 & 0 & 0.0 \\\\\n",
       "\t7 & 9 & 3) \\$200 - \\$350 & 280.2 & 1 & 0 & Surburban & 1 & Phone & Womens E-Mail & 0 & 0 & 0.0 \\\\\n",
       "\t8 & 9 & 1) \\$0 - \\$100 & 46.42 & 0 & 1 & Urban & 0 & Phone & Womens E-Mail & 0 & 0 & 0.0 \\\\\n",
       "\t9 & 9 & 5) \\$500 - \\$750 & 675.07 & 1 & 1 & Rural & 1 & Phone & Mens E-Mail & 0 & 0 & 0.0 \\\\\n",
       "\t10 & 10 & 1) \\$0 - \\$100 & 32.84 & 0 & 1 & Urban & 1 & Web & Womens E-Mail & 0 & 0 & 0.0 \\\\\n",
       "\t11 & 7 & 5) \\$500 - \\$750 & 548.91 & 0 & 1 & Urban & 1 & Phone & Womens E-Mail & 1 & 0 & 0.0 \\\\\n",
       "\t12 & 1 & 3) \\$200 - \\$350 & 211.45 & 0 & 1 & Urban & 1 & Phone & Womens E-Mail & 0 & 0 & 0.0 \\\\\n",
       "\t13 & 5 & 5) \\$500 - \\$750 & 642.9 & 0 & 1 & Surburban & 1 & Multichannel & Womens E-Mail & 0 & 0 & 0.0 \\\\\n",
       "\t14 & 2 & 2) \\$100 - \\$200 & 101.64 & 0 & 1 & Urban & 0 & Web & Mens E-Mail & 1 & 0 & 0.0 \\\\\n",
       "\t15 & 4 & 3) \\$200 - \\$350 & 241.42 & 0 & 1 & Rural & 1 & Multichannel & No E-Mail & 0 & 0 & 0.0 \\\\\n",
       "\t16 & 3 & 1) \\$0 - \\$100 & 58.13 & 1 & 0 & Urban & 1 & Web & No E-Mail & 1 & 0 & 0.0 \\\\\n",
       "\t17 & 5 & 1) \\$0 - \\$100 & 29.99 & 1 & 0 & Surburban & 0 & Phone & Mens E-Mail & 0 & 0 & 0.0 \\\\\n",
       "\t18 & 9 & 2) \\$100 - \\$200 & 112.35 & 1 & 0 & Rural & 0 & Web & Mens E-Mail & 0 & 0 & 0.0 \\\\\n",
       "\t19 & 11 & 3) \\$200 - \\$350 & 219.04 & 1 & 1 & Surburban & 0 & Phone & Mens E-Mail & 0 & 0 & 0.0 \\\\\n",
       "\t20 & 5 & 6) \\$750 - \\$1,000 & 828.42 & 1 & 0 & Surburban & 1 & Multichannel & Mens E-Mail & 0 & 0 & 0.0 \\\\\n",
       "\t21 & 9 & 1) \\$0 - \\$100 & 29.99 & 0 & 1 & Surburban & 1 & Phone & No E-Mail & 0 & 0 & 0.0 \\\\\n",
       "\t22 & 11 & 2) \\$100 - \\$200 & 182.32 & 1 & 0 & Surburban & 0 & Phone & Mens E-Mail & 0 & 0 & 0.0 \\\\\n",
       "\t23 & 2 & 2) \\$100 - \\$200 & 118.4 & 1 & 0 & Surburban & 0 & Web & Mens E-Mail & 1 & 0 & 0.0 \\\\\n",
       "\t24 & 2 & 1) \\$0 - \\$100 & 29.99 & 0 & 1 & Urban & 1 & Phone & No E-Mail & 0 & 0 & 0.0 \\\\\n",
       "\t25 & 4 & 1) \\$0 - \\$100 & 78.24 & 1 & 0 & Surburban & 0 & Web & No E-Mail & 0 & 0 & 0.0 \\\\\n",
       "\t26 & 6 & 2) \\$100 - \\$200 & 139.87 & 0 & 1 & Rural & 1 & Web & Mens E-Mail & 0 & 0 & 0.0 \\\\\n",
       "\t27 & 12 & 2) \\$100 - \\$200 & 115.39 & 0 & 1 & Surburban & 0 & Phone & Mens E-Mail & 1 & 0 & 0.0 \\\\\n",
       "\t28 & 6 & 2) \\$100 - \\$200 & 162.98 & 0 & 1 & Surburban & 0 & Web & Mens E-Mail & 0 & 0 & 0.0 \\\\\n",
       "\t29 & 7 & 4) \\$350 - \\$500 & 435.73 & 0 & 1 & Urban & 1 & Web & No E-Mail & 0 & 0 & 0.0 \\\\\n",
       "\t30 & 2 & 3) \\$200 - \\$350 & 203.35 & 1 & 0 & Rural & 0 & Web & No E-Mail & 0 & 0 & 0.0 \\\\\n",
       "\t$\\dots$ & $\\dots$ & $\\dots$ & $\\dots$ & $\\dots$ & $\\dots$ & $\\dots$ & $\\dots$ & $\\dots$ & $\\dots$ & $\\dots$ & $\\dots$ & $\\dots$ \\\\\n",
       "\\end{tabular}\n"
      ],
      "text/plain": [
       "64000×12 DataFrame. Omitted printing of 6 columns\n",
       "│ Row   │ recency │ history_segment │ history  │ mens   │ womens │ zip_code  │\n",
       "│       │ \u001b[90mInt64⍰\u001b[39m  │ \u001b[90mString⍰\u001b[39m         │ \u001b[90mFloat64⍰\u001b[39m │ \u001b[90mInt64⍰\u001b[39m │ \u001b[90mInt64⍰\u001b[39m │ \u001b[90mString⍰\u001b[39m   │\n",
       "├───────┼─────────┼─────────────────┼──────────┼────────┼────────┼───────────┤\n",
       "│ 1     │ 10      │ 2) $100 - $200  │ 142.44   │ 1      │ 0      │ Surburban │\n",
       "│ 2     │ 6       │ 3) $200 - $350  │ 329.08   │ 1      │ 1      │ Rural     │\n",
       "│ 3     │ 7       │ 2) $100 - $200  │ 180.65   │ 0      │ 1      │ Surburban │\n",
       "│ 4     │ 9       │ 5) $500 - $750  │ 675.83   │ 1      │ 0      │ Rural     │\n",
       "│ 5     │ 2       │ 1) $0 - $100    │ 45.34    │ 1      │ 0      │ Urban     │\n",
       "│ 6     │ 6       │ 2) $100 - $200  │ 134.83   │ 0      │ 1      │ Surburban │\n",
       "│ 7     │ 9       │ 3) $200 - $350  │ 280.2    │ 1      │ 0      │ Surburban │\n",
       "│ 8     │ 9       │ 1) $0 - $100    │ 46.42    │ 0      │ 1      │ Urban     │\n",
       "│ 9     │ 9       │ 5) $500 - $750  │ 675.07   │ 1      │ 1      │ Rural     │\n",
       "│ 10    │ 10      │ 1) $0 - $100    │ 32.84    │ 0      │ 1      │ Urban     │\n",
       "⋮\n",
       "│ 63990 │ 10      │ 3) $200 - $350  │ 304.3    │ 1      │ 1      │ Surburban │\n",
       "│ 63991 │ 6       │ 1) $0 - $100    │ 80.02    │ 0      │ 1      │ Surburban │\n",
       "│ 63992 │ 1       │ 3) $200 - $350  │ 306.1    │ 1      │ 0      │ Surburban │\n",
       "│ 63993 │ 1       │ 5) $500 - $750  │ 519.69   │ 1      │ 1      │ Urban     │\n",
       "│ 63994 │ 4       │ 4) $350 - $500  │ 374.07   │ 0      │ 1      │ Surburban │\n",
       "│ 63995 │ 7       │ 1) $0 - $100    │ 86.46    │ 0      │ 1      │ Urban     │\n",
       "│ 63996 │ 10      │ 2) $100 - $200  │ 105.54   │ 1      │ 0      │ Urban     │\n",
       "│ 63997 │ 5       │ 1) $0 - $100    │ 38.91    │ 0      │ 1      │ Urban     │\n",
       "│ 63998 │ 6       │ 1) $0 - $100    │ 29.99    │ 1      │ 0      │ Urban     │\n",
       "│ 63999 │ 1       │ 5) $500 - $750  │ 552.94   │ 1      │ 0      │ Surburban │\n",
       "│ 64000 │ 1       │ 4) $350 - $500  │ 472.82   │ 0      │ 1      │ Surburban │"
      ]
     },
     "execution_count": 52,
     "metadata": {},
     "output_type": "execute_result"
    }
   ],
   "source": [
    "# (3) データの読み込み\n",
    "email_data = CSV.read(download(\"http://www.minethatdata.com/Kevin_Hillstrom_MineThatData_E-MailAnalytics_DataMiningChallenge_2008.03.20.csv\"))"
   ]
  },
  {
   "cell_type": "code",
   "execution_count": 53,
   "metadata": {},
   "outputs": [
    {
     "data": {
      "text/html": [
       "<table class=\"data-frame\"><thead><tr><th></th><th>recency</th><th>history_segment</th><th>history</th><th>mens</th><th>womens</th><th>zip_code</th><th>newbie</th><th>channel</th><th>segment</th><th>visit</th><th>conversion</th><th>spend</th></tr><tr><th></th><th>Int64⍰</th><th>String⍰</th><th>Float64⍰</th><th>Int64⍰</th><th>Int64⍰</th><th>String⍰</th><th>Int64⍰</th><th>String⍰</th><th>String⍰</th><th>Int64⍰</th><th>Int64⍰</th><th>Float64⍰</th></tr></thead><tbody><p>42,613 rows × 12 columns</p><tr><th>1</th><td>6</td><td>3) $200 - $350</td><td>329.08</td><td>1</td><td>1</td><td>Rural</td><td>1</td><td>Web</td><td>No E-Mail</td><td>0</td><td>0</td><td>0.0</td></tr><tr><th>2</th><td>9</td><td>5) $500 - $750</td><td>675.83</td><td>1</td><td>0</td><td>Rural</td><td>1</td><td>Web</td><td>Mens E-Mail</td><td>0</td><td>0</td><td>0.0</td></tr><tr><th>3</th><td>9</td><td>5) $500 - $750</td><td>675.07</td><td>1</td><td>1</td><td>Rural</td><td>1</td><td>Phone</td><td>Mens E-Mail</td><td>0</td><td>0</td><td>0.0</td></tr><tr><th>4</th><td>2</td><td>2) $100 - $200</td><td>101.64</td><td>0</td><td>1</td><td>Urban</td><td>0</td><td>Web</td><td>Mens E-Mail</td><td>1</td><td>0</td><td>0.0</td></tr><tr><th>5</th><td>4</td><td>3) $200 - $350</td><td>241.42</td><td>0</td><td>1</td><td>Rural</td><td>1</td><td>Multichannel</td><td>No E-Mail</td><td>0</td><td>0</td><td>0.0</td></tr><tr><th>6</th><td>3</td><td>1) $0 - $100</td><td>58.13</td><td>1</td><td>0</td><td>Urban</td><td>1</td><td>Web</td><td>No E-Mail</td><td>1</td><td>0</td><td>0.0</td></tr><tr><th>7</th><td>5</td><td>1) $0 - $100</td><td>29.99</td><td>1</td><td>0</td><td>Surburban</td><td>0</td><td>Phone</td><td>Mens E-Mail</td><td>0</td><td>0</td><td>0.0</td></tr><tr><th>8</th><td>9</td><td>2) $100 - $200</td><td>112.35</td><td>1</td><td>0</td><td>Rural</td><td>0</td><td>Web</td><td>Mens E-Mail</td><td>0</td><td>0</td><td>0.0</td></tr><tr><th>9</th><td>11</td><td>3) $200 - $350</td><td>219.04</td><td>1</td><td>1</td><td>Surburban</td><td>0</td><td>Phone</td><td>Mens E-Mail</td><td>0</td><td>0</td><td>0.0</td></tr><tr><th>10</th><td>5</td><td>6) $750 - $1,000</td><td>828.42</td><td>1</td><td>0</td><td>Surburban</td><td>1</td><td>Multichannel</td><td>Mens E-Mail</td><td>0</td><td>0</td><td>0.0</td></tr><tr><th>11</th><td>9</td><td>1) $0 - $100</td><td>29.99</td><td>0</td><td>1</td><td>Surburban</td><td>1</td><td>Phone</td><td>No E-Mail</td><td>0</td><td>0</td><td>0.0</td></tr><tr><th>12</th><td>11</td><td>2) $100 - $200</td><td>182.32</td><td>1</td><td>0</td><td>Surburban</td><td>0</td><td>Phone</td><td>Mens E-Mail</td><td>0</td><td>0</td><td>0.0</td></tr><tr><th>13</th><td>2</td><td>2) $100 - $200</td><td>118.4</td><td>1</td><td>0</td><td>Surburban</td><td>0</td><td>Web</td><td>Mens E-Mail</td><td>1</td><td>0</td><td>0.0</td></tr><tr><th>14</th><td>2</td><td>1) $0 - $100</td><td>29.99</td><td>0</td><td>1</td><td>Urban</td><td>1</td><td>Phone</td><td>No E-Mail</td><td>0</td><td>0</td><td>0.0</td></tr><tr><th>15</th><td>4</td><td>1) $0 - $100</td><td>78.24</td><td>1</td><td>0</td><td>Surburban</td><td>0</td><td>Web</td><td>No E-Mail</td><td>0</td><td>0</td><td>0.0</td></tr><tr><th>16</th><td>6</td><td>2) $100 - $200</td><td>139.87</td><td>0</td><td>1</td><td>Rural</td><td>1</td><td>Web</td><td>Mens E-Mail</td><td>0</td><td>0</td><td>0.0</td></tr><tr><th>17</th><td>12</td><td>2) $100 - $200</td><td>115.39</td><td>0</td><td>1</td><td>Surburban</td><td>0</td><td>Phone</td><td>Mens E-Mail</td><td>1</td><td>0</td><td>0.0</td></tr><tr><th>18</th><td>6</td><td>2) $100 - $200</td><td>162.98</td><td>0</td><td>1</td><td>Surburban</td><td>0</td><td>Web</td><td>Mens E-Mail</td><td>0</td><td>0</td><td>0.0</td></tr><tr><th>19</th><td>7</td><td>4) $350 - $500</td><td>435.73</td><td>0</td><td>1</td><td>Urban</td><td>1</td><td>Web</td><td>No E-Mail</td><td>0</td><td>0</td><td>0.0</td></tr><tr><th>20</th><td>2</td><td>3) $200 - $350</td><td>203.35</td><td>1</td><td>0</td><td>Rural</td><td>0</td><td>Web</td><td>No E-Mail</td><td>0</td><td>0</td><td>0.0</td></tr><tr><th>21</th><td>9</td><td>3) $200 - $350</td><td>334.24</td><td>1</td><td>0</td><td>Urban</td><td>0</td><td>Web</td><td>Mens E-Mail</td><td>0</td><td>0</td><td>0.0</td></tr><tr><th>22</th><td>6</td><td>2) $100 - $200</td><td>128.01</td><td>0</td><td>1</td><td>Urban</td><td>0</td><td>Web</td><td>Mens E-Mail</td><td>0</td><td>0</td><td>0.0</td></tr><tr><th>23</th><td>9</td><td>1) $0 - $100</td><td>29.99</td><td>1</td><td>0</td><td>Surburban</td><td>1</td><td>Phone</td><td>Mens E-Mail</td><td>0</td><td>0</td><td>0.0</td></tr><tr><th>24</th><td>1</td><td>5) $500 - $750</td><td>514.52</td><td>0</td><td>1</td><td>Surburban</td><td>1</td><td>Web</td><td>Mens E-Mail</td><td>0</td><td>0</td><td>0.0</td></tr><tr><th>25</th><td>4</td><td>6) $750 - $1,000</td><td>766.47</td><td>1</td><td>1</td><td>Urban</td><td>1</td><td>Multichannel</td><td>Mens E-Mail</td><td>0</td><td>0</td><td>0.0</td></tr><tr><th>26</th><td>7</td><td>5) $500 - $750</td><td>520.43</td><td>0</td><td>1</td><td>Surburban</td><td>1</td><td>Web</td><td>Mens E-Mail</td><td>0</td><td>0</td><td>0.0</td></tr><tr><th>27</th><td>11</td><td>3) $200 - $350</td><td>236.97</td><td>1</td><td>1</td><td>Urban</td><td>1</td><td>Phone</td><td>Mens E-Mail</td><td>0</td><td>0</td><td>0.0</td></tr><tr><th>28</th><td>3</td><td>1) $0 - $100</td><td>99.23</td><td>1</td><td>0</td><td>Rural</td><td>0</td><td>Web</td><td>Mens E-Mail</td><td>1</td><td>0</td><td>0.0</td></tr><tr><th>29</th><td>2</td><td>4) $350 - $500</td><td>492.02</td><td>1</td><td>0</td><td>Surburban</td><td>0</td><td>Phone</td><td>No E-Mail</td><td>0</td><td>0</td><td>0.0</td></tr><tr><th>30</th><td>1</td><td>1) $0 - $100</td><td>48.32</td><td>0</td><td>1</td><td>Urban</td><td>0</td><td>Web</td><td>No E-Mail</td><td>0</td><td>0</td><td>0.0</td></tr><tr><th>&vellip;</th><td>&vellip;</td><td>&vellip;</td><td>&vellip;</td><td>&vellip;</td><td>&vellip;</td><td>&vellip;</td><td>&vellip;</td><td>&vellip;</td><td>&vellip;</td><td>&vellip;</td><td>&vellip;</td><td>&vellip;</td></tr></tbody></table>"
      ],
      "text/latex": [
       "\\begin{tabular}{r|cccccccccccc}\n",
       "\t& recency & history\\_segment & history & mens & womens & zip\\_code & newbie & channel & segment & visit & conversion & spend\\\\\n",
       "\t\\hline\n",
       "\t& Int64⍰ & String⍰ & Float64⍰ & Int64⍰ & Int64⍰ & String⍰ & Int64⍰ & String⍰ & String⍰ & Int64⍰ & Int64⍰ & Float64⍰\\\\\n",
       "\t\\hline\n",
       "\t1 & 6 & 3) \\$200 - \\$350 & 329.08 & 1 & 1 & Rural & 1 & Web & No E-Mail & 0 & 0 & 0.0 \\\\\n",
       "\t2 & 9 & 5) \\$500 - \\$750 & 675.83 & 1 & 0 & Rural & 1 & Web & Mens E-Mail & 0 & 0 & 0.0 \\\\\n",
       "\t3 & 9 & 5) \\$500 - \\$750 & 675.07 & 1 & 1 & Rural & 1 & Phone & Mens E-Mail & 0 & 0 & 0.0 \\\\\n",
       "\t4 & 2 & 2) \\$100 - \\$200 & 101.64 & 0 & 1 & Urban & 0 & Web & Mens E-Mail & 1 & 0 & 0.0 \\\\\n",
       "\t5 & 4 & 3) \\$200 - \\$350 & 241.42 & 0 & 1 & Rural & 1 & Multichannel & No E-Mail & 0 & 0 & 0.0 \\\\\n",
       "\t6 & 3 & 1) \\$0 - \\$100 & 58.13 & 1 & 0 & Urban & 1 & Web & No E-Mail & 1 & 0 & 0.0 \\\\\n",
       "\t7 & 5 & 1) \\$0 - \\$100 & 29.99 & 1 & 0 & Surburban & 0 & Phone & Mens E-Mail & 0 & 0 & 0.0 \\\\\n",
       "\t8 & 9 & 2) \\$100 - \\$200 & 112.35 & 1 & 0 & Rural & 0 & Web & Mens E-Mail & 0 & 0 & 0.0 \\\\\n",
       "\t9 & 11 & 3) \\$200 - \\$350 & 219.04 & 1 & 1 & Surburban & 0 & Phone & Mens E-Mail & 0 & 0 & 0.0 \\\\\n",
       "\t10 & 5 & 6) \\$750 - \\$1,000 & 828.42 & 1 & 0 & Surburban & 1 & Multichannel & Mens E-Mail & 0 & 0 & 0.0 \\\\\n",
       "\t11 & 9 & 1) \\$0 - \\$100 & 29.99 & 0 & 1 & Surburban & 1 & Phone & No E-Mail & 0 & 0 & 0.0 \\\\\n",
       "\t12 & 11 & 2) \\$100 - \\$200 & 182.32 & 1 & 0 & Surburban & 0 & Phone & Mens E-Mail & 0 & 0 & 0.0 \\\\\n",
       "\t13 & 2 & 2) \\$100 - \\$200 & 118.4 & 1 & 0 & Surburban & 0 & Web & Mens E-Mail & 1 & 0 & 0.0 \\\\\n",
       "\t14 & 2 & 1) \\$0 - \\$100 & 29.99 & 0 & 1 & Urban & 1 & Phone & No E-Mail & 0 & 0 & 0.0 \\\\\n",
       "\t15 & 4 & 1) \\$0 - \\$100 & 78.24 & 1 & 0 & Surburban & 0 & Web & No E-Mail & 0 & 0 & 0.0 \\\\\n",
       "\t16 & 6 & 2) \\$100 - \\$200 & 139.87 & 0 & 1 & Rural & 1 & Web & Mens E-Mail & 0 & 0 & 0.0 \\\\\n",
       "\t17 & 12 & 2) \\$100 - \\$200 & 115.39 & 0 & 1 & Surburban & 0 & Phone & Mens E-Mail & 1 & 0 & 0.0 \\\\\n",
       "\t18 & 6 & 2) \\$100 - \\$200 & 162.98 & 0 & 1 & Surburban & 0 & Web & Mens E-Mail & 0 & 0 & 0.0 \\\\\n",
       "\t19 & 7 & 4) \\$350 - \\$500 & 435.73 & 0 & 1 & Urban & 1 & Web & No E-Mail & 0 & 0 & 0.0 \\\\\n",
       "\t20 & 2 & 3) \\$200 - \\$350 & 203.35 & 1 & 0 & Rural & 0 & Web & No E-Mail & 0 & 0 & 0.0 \\\\\n",
       "\t21 & 9 & 3) \\$200 - \\$350 & 334.24 & 1 & 0 & Urban & 0 & Web & Mens E-Mail & 0 & 0 & 0.0 \\\\\n",
       "\t22 & 6 & 2) \\$100 - \\$200 & 128.01 & 0 & 1 & Urban & 0 & Web & Mens E-Mail & 0 & 0 & 0.0 \\\\\n",
       "\t23 & 9 & 1) \\$0 - \\$100 & 29.99 & 1 & 0 & Surburban & 1 & Phone & Mens E-Mail & 0 & 0 & 0.0 \\\\\n",
       "\t24 & 1 & 5) \\$500 - \\$750 & 514.52 & 0 & 1 & Surburban & 1 & Web & Mens E-Mail & 0 & 0 & 0.0 \\\\\n",
       "\t25 & 4 & 6) \\$750 - \\$1,000 & 766.47 & 1 & 1 & Urban & 1 & Multichannel & Mens E-Mail & 0 & 0 & 0.0 \\\\\n",
       "\t26 & 7 & 5) \\$500 - \\$750 & 520.43 & 0 & 1 & Surburban & 1 & Web & Mens E-Mail & 0 & 0 & 0.0 \\\\\n",
       "\t27 & 11 & 3) \\$200 - \\$350 & 236.97 & 1 & 1 & Urban & 1 & Phone & Mens E-Mail & 0 & 0 & 0.0 \\\\\n",
       "\t28 & 3 & 1) \\$0 - \\$100 & 99.23 & 1 & 0 & Rural & 0 & Web & Mens E-Mail & 1 & 0 & 0.0 \\\\\n",
       "\t29 & 2 & 4) \\$350 - \\$500 & 492.02 & 1 & 0 & Surburban & 0 & Phone & No E-Mail & 0 & 0 & 0.0 \\\\\n",
       "\t30 & 1 & 1) \\$0 - \\$100 & 48.32 & 0 & 1 & Urban & 0 & Web & No E-Mail & 0 & 0 & 0.0 \\\\\n",
       "\t$\\dots$ & $\\dots$ & $\\dots$ & $\\dots$ & $\\dots$ & $\\dots$ & $\\dots$ & $\\dots$ & $\\dots$ & $\\dots$ & $\\dots$ & $\\dots$ & $\\dots$ \\\\\n",
       "\\end{tabular}\n"
      ],
      "text/plain": [
       "42613×12 DataFrame. Omitted printing of 6 columns\n",
       "│ Row   │ recency │ history_segment  │ history  │ mens   │ womens │ zip_code  │\n",
       "│       │ \u001b[90mInt64⍰\u001b[39m  │ \u001b[90mString⍰\u001b[39m          │ \u001b[90mFloat64⍰\u001b[39m │ \u001b[90mInt64⍰\u001b[39m │ \u001b[90mInt64⍰\u001b[39m │ \u001b[90mString⍰\u001b[39m   │\n",
       "├───────┼─────────┼──────────────────┼──────────┼────────┼────────┼───────────┤\n",
       "│ 1     │ 6       │ 3) $200 - $350   │ 329.08   │ 1      │ 1      │ Rural     │\n",
       "│ 2     │ 9       │ 5) $500 - $750   │ 675.83   │ 1      │ 0      │ Rural     │\n",
       "│ 3     │ 9       │ 5) $500 - $750   │ 675.07   │ 1      │ 1      │ Rural     │\n",
       "│ 4     │ 2       │ 2) $100 - $200   │ 101.64   │ 0      │ 1      │ Urban     │\n",
       "│ 5     │ 4       │ 3) $200 - $350   │ 241.42   │ 0      │ 1      │ Rural     │\n",
       "│ 6     │ 3       │ 1) $0 - $100     │ 58.13    │ 1      │ 0      │ Urban     │\n",
       "│ 7     │ 5       │ 1) $0 - $100     │ 29.99    │ 1      │ 0      │ Surburban │\n",
       "│ 8     │ 9       │ 2) $100 - $200   │ 112.35   │ 1      │ 0      │ Rural     │\n",
       "│ 9     │ 11      │ 3) $200 - $350   │ 219.04   │ 1      │ 1      │ Surburban │\n",
       "│ 10    │ 5       │ 6) $750 - $1,000 │ 828.42   │ 1      │ 0      │ Surburban │\n",
       "⋮\n",
       "│ 42603 │ 2       │ 1) $0 - $100     │ 83.03    │ 0      │ 1      │ Urban     │\n",
       "│ 42604 │ 9       │ 1) $0 - $100     │ 29.99    │ 1      │ 0      │ Urban     │\n",
       "│ 42605 │ 1       │ 1) $0 - $100     │ 79.7     │ 1      │ 0      │ Surburban │\n",
       "│ 42606 │ 6       │ 1) $0 - $100     │ 32.98    │ 1      │ 0      │ Surburban │\n",
       "│ 42607 │ 6       │ 1) $0 - $100     │ 80.02    │ 0      │ 1      │ Surburban │\n",
       "│ 42608 │ 1       │ 5) $500 - $750   │ 519.69   │ 1      │ 1      │ Urban     │\n",
       "│ 42609 │ 7       │ 1) $0 - $100     │ 86.46    │ 0      │ 1      │ Urban     │\n",
       "│ 42610 │ 10      │ 2) $100 - $200   │ 105.54   │ 1      │ 0      │ Urban     │\n",
       "│ 42611 │ 5       │ 1) $0 - $100     │ 38.91    │ 0      │ 1      │ Urban     │\n",
       "│ 42612 │ 6       │ 1) $0 - $100     │ 29.99    │ 1      │ 0      │ Urban     │\n",
       "│ 42613 │ 1       │ 4) $350 - $500   │ 472.82   │ 0      │ 1      │ Surburban │"
      ]
     },
     "execution_count": 53,
     "metadata": {},
     "output_type": "execute_result"
    }
   ],
   "source": [
    "# (4) データの準備\n",
    "## 女性向けメールが配信されたデータを削除したデータを作成\n",
    "\n",
    "#function isNotWomensEmail(segment)\n",
    "#    return segment != \"Womens E-Mail\"\n",
    "#end\n",
    "\n",
    "#male_df = email_data[isNotWomensEmail.(email_data.segment),:]\n",
    "male_df = email_data[email_data.segment .!=\"Womens E-Mail\", :]"
   ]
  },
  {
   "cell_type": "code",
   "execution_count": 54,
   "metadata": {
    "scrolled": true
   },
   "outputs": [
    {
     "data": {
      "text/plain": [
       "42613-element Array{Int64,1}:\n",
       " 0\n",
       " 1\n",
       " 1\n",
       " 1\n",
       " 0\n",
       " 0\n",
       " 1\n",
       " 1\n",
       " 1\n",
       " 1\n",
       " 0\n",
       " 1\n",
       " 1\n",
       " ⋮\n",
       " 1\n",
       " 0\n",
       " 1\n",
       " 0\n",
       " 1\n",
       " 0\n",
       " 1\n",
       " 1\n",
       " 1\n",
       " 1\n",
       " 1\n",
       " 1"
      ]
     },
     "execution_count": 54,
     "metadata": {},
     "output_type": "execute_result"
    }
   ],
   "source": [
    "function addTreatment(segment)\n",
    "    return ifelse(segment == \"Mens E-Mail\", 1, 0)\n",
    "end\n",
    "male_df.treatment = addTreatment.(male_df.segment)"
   ]
  },
  {
   "cell_type": "code",
   "execution_count": 55,
   "metadata": {},
   "outputs": [
    {
     "data": {
      "text/html": [
       "<table class=\"data-frame\"><thead><tr><th></th><th>recency</th><th>history_segment</th><th>history</th><th>mens</th><th>womens</th><th>zip_code</th><th>newbie</th><th>channel</th><th>segment</th><th>visit</th><th>conversion</th><th>spend</th><th>treatment</th></tr><tr><th></th><th>Int64⍰</th><th>String⍰</th><th>Float64⍰</th><th>Int64⍰</th><th>Int64⍰</th><th>String⍰</th><th>Int64⍰</th><th>String⍰</th><th>String⍰</th><th>Int64⍰</th><th>Int64⍰</th><th>Float64⍰</th><th>Int64</th></tr></thead><tbody><p>5 rows × 13 columns</p><tr><th>1</th><td>6</td><td>3) $200 - $350</td><td>329.08</td><td>1</td><td>1</td><td>Rural</td><td>1</td><td>Web</td><td>No E-Mail</td><td>0</td><td>0</td><td>0.0</td><td>0</td></tr><tr><th>2</th><td>9</td><td>5) $500 - $750</td><td>675.83</td><td>1</td><td>0</td><td>Rural</td><td>1</td><td>Web</td><td>Mens E-Mail</td><td>0</td><td>0</td><td>0.0</td><td>1</td></tr><tr><th>3</th><td>9</td><td>5) $500 - $750</td><td>675.07</td><td>1</td><td>1</td><td>Rural</td><td>1</td><td>Phone</td><td>Mens E-Mail</td><td>0</td><td>0</td><td>0.0</td><td>1</td></tr><tr><th>4</th><td>2</td><td>2) $100 - $200</td><td>101.64</td><td>0</td><td>1</td><td>Urban</td><td>0</td><td>Web</td><td>Mens E-Mail</td><td>1</td><td>0</td><td>0.0</td><td>1</td></tr><tr><th>5</th><td>4</td><td>3) $200 - $350</td><td>241.42</td><td>0</td><td>1</td><td>Rural</td><td>1</td><td>Multichannel</td><td>No E-Mail</td><td>0</td><td>0</td><td>0.0</td><td>0</td></tr></tbody></table>"
      ],
      "text/latex": [
       "\\begin{tabular}{r|ccccccccccccc}\n",
       "\t& recency & history\\_segment & history & mens & womens & zip\\_code & newbie & channel & segment & visit & conversion & spend & treatment\\\\\n",
       "\t\\hline\n",
       "\t& Int64⍰ & String⍰ & Float64⍰ & Int64⍰ & Int64⍰ & String⍰ & Int64⍰ & String⍰ & String⍰ & Int64⍰ & Int64⍰ & Float64⍰ & Int64\\\\\n",
       "\t\\hline\n",
       "\t1 & 6 & 3) \\$200 - \\$350 & 329.08 & 1 & 1 & Rural & 1 & Web & No E-Mail & 0 & 0 & 0.0 & 0 \\\\\n",
       "\t2 & 9 & 5) \\$500 - \\$750 & 675.83 & 1 & 0 & Rural & 1 & Web & Mens E-Mail & 0 & 0 & 0.0 & 1 \\\\\n",
       "\t3 & 9 & 5) \\$500 - \\$750 & 675.07 & 1 & 1 & Rural & 1 & Phone & Mens E-Mail & 0 & 0 & 0.0 & 1 \\\\\n",
       "\t4 & 2 & 2) \\$100 - \\$200 & 101.64 & 0 & 1 & Urban & 0 & Web & Mens E-Mail & 1 & 0 & 0.0 & 1 \\\\\n",
       "\t5 & 4 & 3) \\$200 - \\$350 & 241.42 & 0 & 1 & Rural & 1 & Multichannel & No E-Mail & 0 & 0 & 0.0 & 0 \\\\\n",
       "\\end{tabular}\n"
      ],
      "text/plain": [
       "5×13 DataFrame. Omitted printing of 7 columns\n",
       "│ Row │ recency │ history_segment │ history  │ mens   │ womens │ zip_code │\n",
       "│     │ \u001b[90mInt64⍰\u001b[39m  │ \u001b[90mString⍰\u001b[39m         │ \u001b[90mFloat64⍰\u001b[39m │ \u001b[90mInt64⍰\u001b[39m │ \u001b[90mInt64⍰\u001b[39m │ \u001b[90mString⍰\u001b[39m  │\n",
       "├─────┼─────────┼─────────────────┼──────────┼────────┼────────┼──────────┤\n",
       "│ 1   │ 6       │ 3) $200 - $350  │ 329.08   │ 1      │ 1      │ Rural    │\n",
       "│ 2   │ 9       │ 5) $500 - $750  │ 675.83   │ 1      │ 0      │ Rural    │\n",
       "│ 3   │ 9       │ 5) $500 - $750  │ 675.07   │ 1      │ 1      │ Rural    │\n",
       "│ 4   │ 2       │ 2) $100 - $200  │ 101.64   │ 0      │ 1      │ Urban    │\n",
       "│ 5   │ 4       │ 3) $200 - $350  │ 241.42   │ 0      │ 1      │ Rural    │"
      ]
     },
     "execution_count": 55,
     "metadata": {},
     "output_type": "execute_result"
    }
   ],
   "source": [
    "first(male_df, 5)"
   ]
  },
  {
   "cell_type": "code",
   "execution_count": 56,
   "metadata": {},
   "outputs": [
    {
     "data": {
      "text/html": [
       "<table class=\"data-frame\"><thead><tr><th></th><th>treatment</th><th>conversion_rate</th><th>spend_mean</th><th>count</th></tr><tr><th></th><th>Int64</th><th>Float64</th><th>Float64</th><th>Int64</th></tr></thead><tbody><p>2 rows × 4 columns</p><tr><th>1</th><td>0</td><td>0.00572609</td><td>0.652789</td><td>21306</td></tr><tr><th>2</th><td>1</td><td>0.0125311</td><td>1.42262</td><td>21307</td></tr></tbody></table>"
      ],
      "text/latex": [
       "\\begin{tabular}{r|cccc}\n",
       "\t& treatment & conversion\\_rate & spend\\_mean & count\\\\\n",
       "\t\\hline\n",
       "\t& Int64 & Float64 & Float64 & Int64\\\\\n",
       "\t\\hline\n",
       "\t1 & 0 & 0.00572609 & 0.652789 & 21306 \\\\\n",
       "\t2 & 1 & 0.0125311 & 1.42262 & 21307 \\\\\n",
       "\\end{tabular}\n"
      ],
      "text/plain": [
       "2×4 DataFrame\n",
       "│ Row │ treatment │ conversion_rate │ spend_mean │ count │\n",
       "│     │ \u001b[90mInt64\u001b[39m     │ \u001b[90mFloat64\u001b[39m         │ \u001b[90mFloat64\u001b[39m    │ \u001b[90mInt64\u001b[39m │\n",
       "├─────┼───────────┼─────────────────┼────────────┼───────┤\n",
       "│ 1   │ 0         │ 0.00572609      │ 0.652789   │ 21306 │\n",
       "│ 2   │ 1         │ 0.0125311       │ 1.42262    │ 21307 │"
      ]
     },
     "execution_count": 56,
     "metadata": {},
     "output_type": "execute_result"
    }
   ],
   "source": [
    "# (5) 集計による比較\n",
    "#by( male_df,\n",
    "#    :treatment,\n",
    "#    :conversion => mean,\n",
    "#    :spend => mean\n",
    "#)\n",
    "@linq male_df |> by(:treatment, conversion_rate=mean(:conversion), spend_mean=mean(:spend), count=size(:treatment,1))"
   ]
  },
  {
   "cell_type": "code",
   "execution_count": 57,
   "metadata": {},
   "outputs": [
    {
     "data": {
      "text/html": [
       "<table class=\"data-frame\"><thead><tr><th></th><th>spend</th></tr><tr><th></th><th>Float64⍰</th></tr></thead><tbody><p>21,307 rows × 1 columns</p><tr><th>1</th><td>0.0</td></tr><tr><th>2</th><td>0.0</td></tr><tr><th>3</th><td>0.0</td></tr><tr><th>4</th><td>0.0</td></tr><tr><th>5</th><td>0.0</td></tr><tr><th>6</th><td>0.0</td></tr><tr><th>7</th><td>0.0</td></tr><tr><th>8</th><td>0.0</td></tr><tr><th>9</th><td>0.0</td></tr><tr><th>10</th><td>0.0</td></tr><tr><th>11</th><td>0.0</td></tr><tr><th>12</th><td>0.0</td></tr><tr><th>13</th><td>0.0</td></tr><tr><th>14</th><td>0.0</td></tr><tr><th>15</th><td>0.0</td></tr><tr><th>16</th><td>0.0</td></tr><tr><th>17</th><td>0.0</td></tr><tr><th>18</th><td>0.0</td></tr><tr><th>19</th><td>0.0</td></tr><tr><th>20</th><td>0.0</td></tr><tr><th>21</th><td>0.0</td></tr><tr><th>22</th><td>0.0</td></tr><tr><th>23</th><td>0.0</td></tr><tr><th>24</th><td>0.0</td></tr><tr><th>25</th><td>0.0</td></tr><tr><th>26</th><td>0.0</td></tr><tr><th>27</th><td>0.0</td></tr><tr><th>28</th><td>0.0</td></tr><tr><th>29</th><td>0.0</td></tr><tr><th>30</th><td>0.0</td></tr><tr><th>&vellip;</th><td>&vellip;</td></tr></tbody></table>"
      ],
      "text/latex": [
       "\\begin{tabular}{r|c}\n",
       "\t& spend\\\\\n",
       "\t\\hline\n",
       "\t& Float64⍰\\\\\n",
       "\t\\hline\n",
       "\t1 & 0.0 \\\\\n",
       "\t2 & 0.0 \\\\\n",
       "\t3 & 0.0 \\\\\n",
       "\t4 & 0.0 \\\\\n",
       "\t5 & 0.0 \\\\\n",
       "\t6 & 0.0 \\\\\n",
       "\t7 & 0.0 \\\\\n",
       "\t8 & 0.0 \\\\\n",
       "\t9 & 0.0 \\\\\n",
       "\t10 & 0.0 \\\\\n",
       "\t11 & 0.0 \\\\\n",
       "\t12 & 0.0 \\\\\n",
       "\t13 & 0.0 \\\\\n",
       "\t14 & 0.0 \\\\\n",
       "\t15 & 0.0 \\\\\n",
       "\t16 & 0.0 \\\\\n",
       "\t17 & 0.0 \\\\\n",
       "\t18 & 0.0 \\\\\n",
       "\t19 & 0.0 \\\\\n",
       "\t20 & 0.0 \\\\\n",
       "\t21 & 0.0 \\\\\n",
       "\t22 & 0.0 \\\\\n",
       "\t23 & 0.0 \\\\\n",
       "\t24 & 0.0 \\\\\n",
       "\t25 & 0.0 \\\\\n",
       "\t26 & 0.0 \\\\\n",
       "\t27 & 0.0 \\\\\n",
       "\t28 & 0.0 \\\\\n",
       "\t29 & 0.0 \\\\\n",
       "\t30 & 0.0 \\\\\n",
       "\t$\\dots$ & $\\dots$ \\\\\n",
       "\\end{tabular}\n"
      ],
      "text/plain": [
       "21307×1 DataFrame\n",
       "│ Row   │ spend    │\n",
       "│       │ \u001b[90mFloat64⍰\u001b[39m │\n",
       "├───────┼──────────┤\n",
       "│ 1     │ 0.0      │\n",
       "│ 2     │ 0.0      │\n",
       "│ 3     │ 0.0      │\n",
       "│ 4     │ 0.0      │\n",
       "│ 5     │ 0.0      │\n",
       "│ 6     │ 0.0      │\n",
       "│ 7     │ 0.0      │\n",
       "│ 8     │ 0.0      │\n",
       "│ 9     │ 0.0      │\n",
       "│ 10    │ 0.0      │\n",
       "⋮\n",
       "│ 21297 │ 0.0      │\n",
       "│ 21298 │ 0.0      │\n",
       "│ 21299 │ 0.0      │\n",
       "│ 21300 │ 0.0      │\n",
       "│ 21301 │ 0.0      │\n",
       "│ 21302 │ 0.0      │\n",
       "│ 21303 │ 0.0      │\n",
       "│ 21304 │ 0.0      │\n",
       "│ 21305 │ 0.0      │\n",
       "│ 21306 │ 0.0      │\n",
       "│ 21307 │ 0.0      │"
      ]
     },
     "execution_count": 57,
     "metadata": {},
     "output_type": "execute_result"
    }
   ],
   "source": [
    "# (6) t検定を行う\n",
    "## (a)男性向けメールが配信されたグループの購買データを得る\n",
    "mens_mail = @linq male_df |> where(:treatment .== 1) |> select(:spend)"
   ]
  },
  {
   "cell_type": "code",
   "execution_count": 58,
   "metadata": {},
   "outputs": [
    {
     "data": {
      "text/html": [
       "<table class=\"data-frame\"><thead><tr><th></th><th>spend</th></tr><tr><th></th><th>Float64⍰</th></tr></thead><tbody><p>21,306 rows × 1 columns</p><tr><th>1</th><td>0.0</td></tr><tr><th>2</th><td>0.0</td></tr><tr><th>3</th><td>0.0</td></tr><tr><th>4</th><td>0.0</td></tr><tr><th>5</th><td>0.0</td></tr><tr><th>6</th><td>0.0</td></tr><tr><th>7</th><td>0.0</td></tr><tr><th>8</th><td>0.0</td></tr><tr><th>9</th><td>0.0</td></tr><tr><th>10</th><td>0.0</td></tr><tr><th>11</th><td>0.0</td></tr><tr><th>12</th><td>0.0</td></tr><tr><th>13</th><td>0.0</td></tr><tr><th>14</th><td>0.0</td></tr><tr><th>15</th><td>0.0</td></tr><tr><th>16</th><td>0.0</td></tr><tr><th>17</th><td>0.0</td></tr><tr><th>18</th><td>0.0</td></tr><tr><th>19</th><td>0.0</td></tr><tr><th>20</th><td>0.0</td></tr><tr><th>21</th><td>0.0</td></tr><tr><th>22</th><td>0.0</td></tr><tr><th>23</th><td>0.0</td></tr><tr><th>24</th><td>0.0</td></tr><tr><th>25</th><td>0.0</td></tr><tr><th>26</th><td>0.0</td></tr><tr><th>27</th><td>0.0</td></tr><tr><th>28</th><td>0.0</td></tr><tr><th>29</th><td>0.0</td></tr><tr><th>30</th><td>0.0</td></tr><tr><th>&vellip;</th><td>&vellip;</td></tr></tbody></table>"
      ],
      "text/latex": [
       "\\begin{tabular}{r|c}\n",
       "\t& spend\\\\\n",
       "\t\\hline\n",
       "\t& Float64⍰\\\\\n",
       "\t\\hline\n",
       "\t1 & 0.0 \\\\\n",
       "\t2 & 0.0 \\\\\n",
       "\t3 & 0.0 \\\\\n",
       "\t4 & 0.0 \\\\\n",
       "\t5 & 0.0 \\\\\n",
       "\t6 & 0.0 \\\\\n",
       "\t7 & 0.0 \\\\\n",
       "\t8 & 0.0 \\\\\n",
       "\t9 & 0.0 \\\\\n",
       "\t10 & 0.0 \\\\\n",
       "\t11 & 0.0 \\\\\n",
       "\t12 & 0.0 \\\\\n",
       "\t13 & 0.0 \\\\\n",
       "\t14 & 0.0 \\\\\n",
       "\t15 & 0.0 \\\\\n",
       "\t16 & 0.0 \\\\\n",
       "\t17 & 0.0 \\\\\n",
       "\t18 & 0.0 \\\\\n",
       "\t19 & 0.0 \\\\\n",
       "\t20 & 0.0 \\\\\n",
       "\t21 & 0.0 \\\\\n",
       "\t22 & 0.0 \\\\\n",
       "\t23 & 0.0 \\\\\n",
       "\t24 & 0.0 \\\\\n",
       "\t25 & 0.0 \\\\\n",
       "\t26 & 0.0 \\\\\n",
       "\t27 & 0.0 \\\\\n",
       "\t28 & 0.0 \\\\\n",
       "\t29 & 0.0 \\\\\n",
       "\t30 & 0.0 \\\\\n",
       "\t$\\dots$ & $\\dots$ \\\\\n",
       "\\end{tabular}\n"
      ],
      "text/plain": [
       "21306×1 DataFrame\n",
       "│ Row   │ spend    │\n",
       "│       │ \u001b[90mFloat64⍰\u001b[39m │\n",
       "├───────┼──────────┤\n",
       "│ 1     │ 0.0      │\n",
       "│ 2     │ 0.0      │\n",
       "│ 3     │ 0.0      │\n",
       "│ 4     │ 0.0      │\n",
       "│ 5     │ 0.0      │\n",
       "│ 6     │ 0.0      │\n",
       "│ 7     │ 0.0      │\n",
       "│ 8     │ 0.0      │\n",
       "│ 9     │ 0.0      │\n",
       "│ 10    │ 0.0      │\n",
       "⋮\n",
       "│ 21296 │ 0.0      │\n",
       "│ 21297 │ 0.0      │\n",
       "│ 21298 │ 0.0      │\n",
       "│ 21299 │ 0.0      │\n",
       "│ 21300 │ 0.0      │\n",
       "│ 21301 │ 0.0      │\n",
       "│ 21302 │ 0.0      │\n",
       "│ 21303 │ 0.0      │\n",
       "│ 21304 │ 0.0      │\n",
       "│ 21305 │ 0.0      │\n",
       "│ 21306 │ 0.0      │"
      ]
     },
     "execution_count": 58,
     "metadata": {},
     "output_type": "execute_result"
    }
   ],
   "source": [
    "## (b)メールが配信されなかったグループの購買データを得る\n",
    "no_mail = @linq male_df |> where(:treatment .== 0) |> select(:spend)"
   ]
  },
  {
   "cell_type": "code",
   "execution_count": 59,
   "metadata": {},
   "outputs": [
    {
     "data": {
      "text/plain": [
       "Two sample t-test (equal variance)\n",
       "----------------------------------\n",
       "Population details:\n",
       "    parameter of interest:   Mean difference\n",
       "    value under h_0:         0\n",
       "    point estimate:          0.7698271558945368\n",
       "    95% confidence interval: (0.4851, 1.0545)\n",
       "\n",
       "Test summary:\n",
       "    outcome with 95% confidence: reject h_0\n",
       "    two-sided p-value:           <1e-6\n",
       "\n",
       "Details:\n",
       "    number of observations:   [21307,21306]\n",
       "    t-statistic:              5.300090294465472\n",
       "    degrees of freedom:       42611\n",
       "    empirical standard error: 0.1452479322283274\n"
      ]
     },
     "execution_count": 59,
     "metadata": {},
     "output_type": "execute_result"
    }
   ],
   "source": [
    "## (a)(b)の平均の差に対して有意差検定を実行する\n",
    "equal_variance_ttest_spend = EqualVarianceTTest(disallowmissing(mens_mail.spend), disallowmissing(no_mail.spend))"
   ]
  },
  {
   "cell_type": "code",
   "execution_count": 60,
   "metadata": {},
   "outputs": [
    {
     "data": {
      "text/plain": [
       "1.163200872605867e-7"
      ]
     },
     "execution_count": 60,
     "metadata": {},
     "output_type": "execute_result"
    }
   ],
   "source": [
    "pvalue(equal_variance_ttest_spend)"
   ]
  },
  {
   "cell_type": "code",
   "execution_count": 61,
   "metadata": {},
   "outputs": [
    {
     "data": {
      "text/plain": [
       "MersenneTwister(UInt32[0x00000001], Random.DSFMT.DSFMT_state(Int32[1749029653, 1072851681, 1610647787, 1072862326, 1841712345, 1073426746, -198061126, 1073322060, -156153802, 1073567984  …  1977574422, 1073209915, 278919868, 1072835605, 1290372147, 18858467, 1815133874, -1716870370, 382, 0]), [0.0, 0.0, 0.0, 0.0, 0.0, 0.0, 0.0, 0.0, 0.0, 0.0  …  0.0, 0.0, 0.0, 0.0, 0.0, 0.0, 0.0, 0.0, 0.0, 0.0], UInt128[0x00000000000000000000000000000000, 0x00000000000000000000000000000000, 0x00000000000000000000000000000000, 0x00000000000000000000000000000000, 0x00000000000000000000000000000000, 0x00000000000000000000000000000000, 0x00000000000000000000000000000000, 0x00000000000000000000000000000000, 0x00000000000000000000000000000000, 0x00000000000000000000000000000000  …  0x00000000000000000000000000000000, 0x00000000000000000000000000000000, 0x00000000000000000000000000000000, 0x00000000000000000000000000000000, 0x00000000000000000000000000000000, 0x00000000000000000000000000000000, 0x00000000000000000000000000000000, 0x00000000000000000000000000000000, 0x00000000000000000000000000000000, 0x00000000000000000000000000000000], 1002, 0)"
      ]
     },
     "execution_count": 61,
     "metadata": {},
     "output_type": "execute_result"
    }
   ],
   "source": [
    "# (7) セレクションバイアスのあるデータの作成\n",
    "## seedを固定する\n",
    "Random.seed!(1)"
   ]
  },
  {
   "cell_type": "code",
   "execution_count": 62,
   "metadata": {},
   "outputs": [
    {
     "data": {
      "text/plain": [
       "0.5"
      ]
     },
     "execution_count": 62,
     "metadata": {},
     "output_type": "execute_result"
    }
   ],
   "source": [
    "## 条件に反応するサンプルの量を半分にする\n",
    "obs_rate_c = 0.5\n",
    "obs_rate_t = 0.5"
   ]
  },
  {
   "cell_type": "code",
   "execution_count": 63,
   "metadata": {},
   "outputs": [
    {
     "data": {
      "text/plain": [
       "42613-element Array{Real,1}:\n",
       " 0.5\n",
       " 0.5\n",
       " 0.5\n",
       " 0.5\n",
       " 0.5\n",
       " 0.5\n",
       " 0.5\n",
       " 1  \n",
       " 1  \n",
       " 0.5\n",
       " 1  \n",
       " 1  \n",
       " 0.5\n",
       " ⋮  \n",
       " 0.5\n",
       " 0.5\n",
       " 1  \n",
       " 0.5\n",
       " 1  \n",
       " 1  \n",
       " 0.5\n",
       " 1  \n",
       " 1  \n",
       " 0.5\n",
       " 1  \n",
       " 0.5"
      ]
     },
     "execution_count": 63,
     "metadata": {},
     "output_type": "execute_result"
    }
   ],
   "source": [
    "## バイアスのあるデータの作成\n",
    "function addObsRateC(history, recency, channel)\n",
    "    return ifelse(history > 300 || recency < 6 || channel == \"Multichannel\", obs_rate_c, 1)\n",
    "end\n",
    "male_df.obs_rate_c = addObsRateC.(male_df.history, male_df.recency, male_df.channel)"
   ]
  },
  {
   "cell_type": "code",
   "execution_count": 64,
   "metadata": {},
   "outputs": [
    {
     "data": {
      "text/plain": [
       "42613-element Array{Real,1}:\n",
       " 0.5\n",
       " 0.5\n",
       " 0.5\n",
       " 0.5\n",
       " 0.5\n",
       " 0.5\n",
       " 0.5\n",
       " 1  \n",
       " 1  \n",
       " 0.5\n",
       " 1  \n",
       " 1  \n",
       " 0.5\n",
       " ⋮  \n",
       " 0.5\n",
       " 0.5\n",
       " 1  \n",
       " 0.5\n",
       " 1  \n",
       " 1  \n",
       " 0.5\n",
       " 1  \n",
       " 1  \n",
       " 0.5\n",
       " 1  \n",
       " 0.5"
      ]
     },
     "execution_count": 64,
     "metadata": {},
     "output_type": "execute_result"
    }
   ],
   "source": [
    "function addObsRateT(history, recency, channel)\n",
    "    return ifelse(history > 300 || recency < 6 || channel == \"Multichannel\", 1, obs_rate_t)\n",
    "end\n",
    "male_df.obs_rate_t = addObsRateC.(male_df.history, male_df.recency, male_df.channel)"
   ]
  },
  {
   "cell_type": "code",
   "execution_count": 65,
   "metadata": {},
   "outputs": [
    {
     "data": {
      "text/plain": [
       "42613-element Array{Float64,1}:\n",
       " 0.23603334566204692 \n",
       " 0.34651701419196046 \n",
       " 0.3127069683360675  \n",
       " 0.00790928339056074 \n",
       " 0.4886128300795012  \n",
       " 0.21096820215853596 \n",
       " 0.951916339835734   \n",
       " 0.9999046588986136  \n",
       " 0.25166218303197185 \n",
       " 0.9866663668987996  \n",
       " 0.5557510873245723  \n",
       " 0.43710797460962514 \n",
       " 0.42471785049513144 \n",
       " ⋮                   \n",
       " 0.7675331672521213  \n",
       " 0.24251934118317875 \n",
       " 0.7081468030627909  \n",
       " 0.6701262110039354  \n",
       " 0.15327215352703427 \n",
       " 0.020804394609967414\n",
       " 0.823015125115907   \n",
       " 0.928175018458379   \n",
       " 0.5888952541595407  \n",
       " 0.5655612255541766  \n",
       " 0.33002827188190076 \n",
       " 0.5367136933748258  "
      ]
     },
     "execution_count": 65,
     "metadata": {},
     "output_type": "execute_result"
    }
   ],
   "source": [
    "male_df.random_number = male_df |> x -> rand(size(x)[1])"
   ]
  },
  {
   "cell_type": "code",
   "execution_count": 66,
   "metadata": {},
   "outputs": [
    {
     "data": {
      "text/html": [
       "<table class=\"data-frame\"><thead><tr><th></th><th>recency</th><th>history_segment</th><th>history</th><th>mens</th><th>womens</th><th>zip_code</th><th>newbie</th><th>channel</th><th>segment</th><th>visit</th><th>conversion</th><th>spend</th><th>treatment</th><th>obs_rate_c</th><th>obs_rate_t</th><th>random_number</th></tr><tr><th></th><th>Int64⍰</th><th>String⍰</th><th>Float64⍰</th><th>Int64⍰</th><th>Int64⍰</th><th>String⍰</th><th>Int64⍰</th><th>String⍰</th><th>String⍰</th><th>Int64⍰</th><th>Int64⍰</th><th>Float64⍰</th><th>Int64</th><th>Real</th><th>Real</th><th>Float64</th></tr></thead><tbody><p>3 rows × 16 columns</p><tr><th>1</th><td>6</td><td>3) $200 - $350</td><td>329.08</td><td>1</td><td>1</td><td>Rural</td><td>1</td><td>Web</td><td>No E-Mail</td><td>0</td><td>0</td><td>0.0</td><td>0</td><td>0.5</td><td>0.5</td><td>0.236033</td></tr><tr><th>2</th><td>9</td><td>5) $500 - $750</td><td>675.83</td><td>1</td><td>0</td><td>Rural</td><td>1</td><td>Web</td><td>Mens E-Mail</td><td>0</td><td>0</td><td>0.0</td><td>1</td><td>0.5</td><td>0.5</td><td>0.346517</td></tr><tr><th>3</th><td>9</td><td>5) $500 - $750</td><td>675.07</td><td>1</td><td>1</td><td>Rural</td><td>1</td><td>Phone</td><td>Mens E-Mail</td><td>0</td><td>0</td><td>0.0</td><td>1</td><td>0.5</td><td>0.5</td><td>0.312707</td></tr></tbody></table>"
      ],
      "text/latex": [
       "\\begin{tabular}{r|cccccccccccccccc}\n",
       "\t& recency & history\\_segment & history & mens & womens & zip\\_code & newbie & channel & segment & visit & conversion & spend & treatment & obs\\_rate\\_c & obs\\_rate\\_t & random\\_number\\\\\n",
       "\t\\hline\n",
       "\t& Int64⍰ & String⍰ & Float64⍰ & Int64⍰ & Int64⍰ & String⍰ & Int64⍰ & String⍰ & String⍰ & Int64⍰ & Int64⍰ & Float64⍰ & Int64 & Real & Real & Float64\\\\\n",
       "\t\\hline\n",
       "\t1 & 6 & 3) \\$200 - \\$350 & 329.08 & 1 & 1 & Rural & 1 & Web & No E-Mail & 0 & 0 & 0.0 & 0 & 0.5 & 0.5 & 0.236033 \\\\\n",
       "\t2 & 9 & 5) \\$500 - \\$750 & 675.83 & 1 & 0 & Rural & 1 & Web & Mens E-Mail & 0 & 0 & 0.0 & 1 & 0.5 & 0.5 & 0.346517 \\\\\n",
       "\t3 & 9 & 5) \\$500 - \\$750 & 675.07 & 1 & 1 & Rural & 1 & Phone & Mens E-Mail & 0 & 0 & 0.0 & 1 & 0.5 & 0.5 & 0.312707 \\\\\n",
       "\\end{tabular}\n"
      ],
      "text/plain": [
       "3×16 DataFrame. Omitted printing of 10 columns\n",
       "│ Row │ recency │ history_segment │ history  │ mens   │ womens │ zip_code │\n",
       "│     │ \u001b[90mInt64⍰\u001b[39m  │ \u001b[90mString⍰\u001b[39m         │ \u001b[90mFloat64⍰\u001b[39m │ \u001b[90mInt64⍰\u001b[39m │ \u001b[90mInt64⍰\u001b[39m │ \u001b[90mString⍰\u001b[39m  │\n",
       "├─────┼─────────┼─────────────────┼──────────┼────────┼────────┼──────────┤\n",
       "│ 1   │ 6       │ 3) $200 - $350  │ 329.08   │ 1      │ 1      │ Rural    │\n",
       "│ 2   │ 9       │ 5) $500 - $750  │ 675.83   │ 1      │ 0      │ Rural    │\n",
       "│ 3   │ 9       │ 5) $500 - $750  │ 675.07   │ 1      │ 1      │ Rural    │"
      ]
     },
     "execution_count": 66,
     "metadata": {},
     "output_type": "execute_result"
    }
   ],
   "source": [
    "first(male_df, 3)"
   ]
  },
  {
   "cell_type": "code",
   "execution_count": 67,
   "metadata": {},
   "outputs": [
    {
     "data": {
      "text/plain": [
       "42613-element BitArray{1}:\n",
       "  true\n",
       "  true\n",
       "  true\n",
       "  true\n",
       "  true\n",
       "  true\n",
       " false\n",
       "  true\n",
       "  true\n",
       " false\n",
       "  true\n",
       "  true\n",
       "  true\n",
       "     ⋮\n",
       " false\n",
       "  true\n",
       "  true\n",
       " false\n",
       "  true\n",
       "  true\n",
       " false\n",
       "  true\n",
       "  true\n",
       " false\n",
       "  true\n",
       " false"
      ]
     },
     "execution_count": 67,
     "metadata": {},
     "output_type": "execute_result"
    }
   ],
   "source": [
    "biased_data = male_df |> x -> begin\n",
    "    x.treatment .== 0\n",
    "    x.random_number .< x.obs_rate_c\n",
    "end"
   ]
  },
  {
   "cell_type": "code",
   "execution_count": 68,
   "metadata": {
    "scrolled": true
   },
   "outputs": [
    {
     "data": {
      "text/html": [
       "<table class=\"data-frame\"><thead><tr><th></th><th>recency</th><th>history_segment</th><th>history</th><th>mens</th><th>womens</th><th>zip_code</th><th>newbie</th><th>channel</th><th>segment</th><th>visit</th><th>conversion</th><th>spend</th><th>treatment</th><th>obs_rate_c</th><th>obs_rate_t</th><th>random_number</th></tr><tr><th></th><th>Int64⍰</th><th>String⍰</th><th>Float64⍰</th><th>Int64⍰</th><th>Int64⍰</th><th>String⍰</th><th>Int64⍰</th><th>String⍰</th><th>String⍰</th><th>Int64⍰</th><th>Int64⍰</th><th>Float64⍰</th><th>Int64</th><th>Real</th><th>Real</th><th>Float64</th></tr></thead><tbody><p>29,575 rows × 16 columns</p><tr><th>1</th><td>6</td><td>3) $200 - $350</td><td>329.08</td><td>1</td><td>1</td><td>Rural</td><td>1</td><td>Web</td><td>No E-Mail</td><td>0</td><td>0</td><td>0.0</td><td>0</td><td>0.5</td><td>0.5</td><td>0.236033</td></tr><tr><th>2</th><td>9</td><td>5) $500 - $750</td><td>675.83</td><td>1</td><td>0</td><td>Rural</td><td>1</td><td>Web</td><td>Mens E-Mail</td><td>0</td><td>0</td><td>0.0</td><td>1</td><td>0.5</td><td>0.5</td><td>0.346517</td></tr><tr><th>3</th><td>9</td><td>5) $500 - $750</td><td>675.07</td><td>1</td><td>1</td><td>Rural</td><td>1</td><td>Phone</td><td>Mens E-Mail</td><td>0</td><td>0</td><td>0.0</td><td>1</td><td>0.5</td><td>0.5</td><td>0.312707</td></tr><tr><th>4</th><td>2</td><td>2) $100 - $200</td><td>101.64</td><td>0</td><td>1</td><td>Urban</td><td>0</td><td>Web</td><td>Mens E-Mail</td><td>1</td><td>0</td><td>0.0</td><td>1</td><td>0.5</td><td>0.5</td><td>0.00790928</td></tr><tr><th>5</th><td>4</td><td>3) $200 - $350</td><td>241.42</td><td>0</td><td>1</td><td>Rural</td><td>1</td><td>Multichannel</td><td>No E-Mail</td><td>0</td><td>0</td><td>0.0</td><td>0</td><td>0.5</td><td>0.5</td><td>0.488613</td></tr><tr><th>6</th><td>3</td><td>1) $0 - $100</td><td>58.13</td><td>1</td><td>0</td><td>Urban</td><td>1</td><td>Web</td><td>No E-Mail</td><td>1</td><td>0</td><td>0.0</td><td>0</td><td>0.5</td><td>0.5</td><td>0.210968</td></tr><tr><th>7</th><td>9</td><td>2) $100 - $200</td><td>112.35</td><td>1</td><td>0</td><td>Rural</td><td>0</td><td>Web</td><td>Mens E-Mail</td><td>0</td><td>0</td><td>0.0</td><td>1</td><td>1</td><td>1</td><td>0.999905</td></tr><tr><th>8</th><td>11</td><td>3) $200 - $350</td><td>219.04</td><td>1</td><td>1</td><td>Surburban</td><td>0</td><td>Phone</td><td>Mens E-Mail</td><td>0</td><td>0</td><td>0.0</td><td>1</td><td>1</td><td>1</td><td>0.251662</td></tr><tr><th>9</th><td>9</td><td>1) $0 - $100</td><td>29.99</td><td>0</td><td>1</td><td>Surburban</td><td>1</td><td>Phone</td><td>No E-Mail</td><td>0</td><td>0</td><td>0.0</td><td>0</td><td>1</td><td>1</td><td>0.555751</td></tr><tr><th>10</th><td>11</td><td>2) $100 - $200</td><td>182.32</td><td>1</td><td>0</td><td>Surburban</td><td>0</td><td>Phone</td><td>Mens E-Mail</td><td>0</td><td>0</td><td>0.0</td><td>1</td><td>1</td><td>1</td><td>0.437108</td></tr><tr><th>11</th><td>2</td><td>2) $100 - $200</td><td>118.4</td><td>1</td><td>0</td><td>Surburban</td><td>0</td><td>Web</td><td>Mens E-Mail</td><td>1</td><td>0</td><td>0.0</td><td>1</td><td>0.5</td><td>0.5</td><td>0.424718</td></tr><tr><th>12</th><td>4</td><td>1) $0 - $100</td><td>78.24</td><td>1</td><td>0</td><td>Surburban</td><td>0</td><td>Web</td><td>No E-Mail</td><td>0</td><td>0</td><td>0.0</td><td>0</td><td>0.5</td><td>0.5</td><td>0.28119</td></tr><tr><th>13</th><td>6</td><td>2) $100 - $200</td><td>139.87</td><td>0</td><td>1</td><td>Rural</td><td>1</td><td>Web</td><td>Mens E-Mail</td><td>0</td><td>0</td><td>0.0</td><td>1</td><td>1</td><td>1</td><td>0.209472</td></tr><tr><th>14</th><td>12</td><td>2) $100 - $200</td><td>115.39</td><td>0</td><td>1</td><td>Surburban</td><td>0</td><td>Phone</td><td>Mens E-Mail</td><td>1</td><td>0</td><td>0.0</td><td>1</td><td>1</td><td>1</td><td>0.251379</td></tr><tr><th>15</th><td>6</td><td>2) $100 - $200</td><td>162.98</td><td>0</td><td>1</td><td>Surburban</td><td>0</td><td>Web</td><td>Mens E-Mail</td><td>0</td><td>0</td><td>0.0</td><td>1</td><td>1</td><td>1</td><td>0.0203749</td></tr><tr><th>16</th><td>7</td><td>4) $350 - $500</td><td>435.73</td><td>0</td><td>1</td><td>Urban</td><td>1</td><td>Web</td><td>No E-Mail</td><td>0</td><td>0</td><td>0.0</td><td>0</td><td>0.5</td><td>0.5</td><td>0.287702</td></tr><tr><th>17</th><td>9</td><td>3) $200 - $350</td><td>334.24</td><td>1</td><td>0</td><td>Urban</td><td>0</td><td>Web</td><td>Mens E-Mail</td><td>0</td><td>0</td><td>0.0</td><td>1</td><td>0.5</td><td>0.5</td><td>0.0769509</td></tr><tr><th>18</th><td>6</td><td>2) $100 - $200</td><td>128.01</td><td>0</td><td>1</td><td>Urban</td><td>0</td><td>Web</td><td>Mens E-Mail</td><td>0</td><td>0</td><td>0.0</td><td>1</td><td>1</td><td>1</td><td>0.640396</td></tr><tr><th>19</th><td>9</td><td>1) $0 - $100</td><td>29.99</td><td>1</td><td>0</td><td>Surburban</td><td>1</td><td>Phone</td><td>Mens E-Mail</td><td>0</td><td>0</td><td>0.0</td><td>1</td><td>1</td><td>1</td><td>0.873544</td></tr><tr><th>20</th><td>1</td><td>5) $500 - $750</td><td>514.52</td><td>0</td><td>1</td><td>Surburban</td><td>1</td><td>Web</td><td>Mens E-Mail</td><td>0</td><td>0</td><td>0.0</td><td>1</td><td>0.5</td><td>0.5</td><td>0.278582</td></tr><tr><th>21</th><td>11</td><td>3) $200 - $350</td><td>236.97</td><td>1</td><td>1</td><td>Urban</td><td>1</td><td>Phone</td><td>Mens E-Mail</td><td>0</td><td>0</td><td>0.0</td><td>1</td><td>1</td><td>1</td><td>0.0778264</td></tr><tr><th>22</th><td>2</td><td>4) $350 - $500</td><td>492.02</td><td>1</td><td>0</td><td>Surburban</td><td>0</td><td>Phone</td><td>No E-Mail</td><td>0</td><td>0</td><td>0.0</td><td>0</td><td>0.5</td><td>0.5</td><td>0.0856352</td></tr><tr><th>23</th><td>10</td><td>1) $0 - $100</td><td>29.99</td><td>1</td><td>0</td><td>Surburban</td><td>0</td><td>Phone</td><td>No E-Mail</td><td>0</td><td>0</td><td>0.0</td><td>0</td><td>1</td><td>1</td><td>0.46335</td></tr><tr><th>24</th><td>2</td><td>4) $350 - $500</td><td>391.33</td><td>1</td><td>0</td><td>Surburban</td><td>0</td><td>Web</td><td>No E-Mail</td><td>0</td><td>0</td><td>0.0</td><td>0</td><td>0.5</td><td>0.5</td><td>0.185821</td></tr><tr><th>25</th><td>1</td><td>5) $500 - $750</td><td>729.7</td><td>1</td><td>1</td><td>Surburban</td><td>1</td><td>Web</td><td>Mens E-Mail</td><td>0</td><td>0</td><td>0.0</td><td>1</td><td>0.5</td><td>0.5</td><td>0.111981</td></tr><tr><th>26</th><td>9</td><td>2) $100 - $200</td><td>185.43</td><td>1</td><td>0</td><td>Urban</td><td>0</td><td>Web</td><td>Mens E-Mail</td><td>0</td><td>0</td><td>0.0</td><td>1</td><td>1</td><td>1</td><td>0.0516146</td></tr><tr><th>27</th><td>7</td><td>1) $0 - $100</td><td>29.99</td><td>0</td><td>1</td><td>Urban</td><td>1</td><td>Phone</td><td>Mens E-Mail</td><td>0</td><td>0</td><td>0.0</td><td>1</td><td>1</td><td>1</td><td>0.53803</td></tr><tr><th>28</th><td>9</td><td>1) $0 - $100</td><td>78.62</td><td>1</td><td>0</td><td>Urban</td><td>0</td><td>Web</td><td>Mens E-Mail</td><td>0</td><td>0</td><td>0.0</td><td>1</td><td>1</td><td>1</td><td>0.455692</td></tr><tr><th>29</th><td>12</td><td>2) $100 - $200</td><td>150.06</td><td>0</td><td>1</td><td>Surburban</td><td>0</td><td>Phone</td><td>No E-Mail</td><td>0</td><td>0</td><td>0.0</td><td>0</td><td>1</td><td>1</td><td>0.279395</td></tr><tr><th>30</th><td>6</td><td>1) $0 - $100</td><td>42.66</td><td>1</td><td>0</td><td>Surburban</td><td>0</td><td>Web</td><td>No E-Mail</td><td>0</td><td>0</td><td>0.0</td><td>0</td><td>1</td><td>1</td><td>0.178246</td></tr><tr><th>&vellip;</th><td>&vellip;</td><td>&vellip;</td><td>&vellip;</td><td>&vellip;</td><td>&vellip;</td><td>&vellip;</td><td>&vellip;</td><td>&vellip;</td><td>&vellip;</td><td>&vellip;</td><td>&vellip;</td><td>&vellip;</td><td>&vellip;</td><td>&vellip;</td><td>&vellip;</td><td>&vellip;</td></tr></tbody></table>"
      ],
      "text/latex": [
       "\\begin{tabular}{r|cccccccccccccccc}\n",
       "\t& recency & history\\_segment & history & mens & womens & zip\\_code & newbie & channel & segment & visit & conversion & spend & treatment & obs\\_rate\\_c & obs\\_rate\\_t & random\\_number\\\\\n",
       "\t\\hline\n",
       "\t& Int64⍰ & String⍰ & Float64⍰ & Int64⍰ & Int64⍰ & String⍰ & Int64⍰ & String⍰ & String⍰ & Int64⍰ & Int64⍰ & Float64⍰ & Int64 & Real & Real & Float64\\\\\n",
       "\t\\hline\n",
       "\t1 & 6 & 3) \\$200 - \\$350 & 329.08 & 1 & 1 & Rural & 1 & Web & No E-Mail & 0 & 0 & 0.0 & 0 & 0.5 & 0.5 & 0.236033 \\\\\n",
       "\t2 & 9 & 5) \\$500 - \\$750 & 675.83 & 1 & 0 & Rural & 1 & Web & Mens E-Mail & 0 & 0 & 0.0 & 1 & 0.5 & 0.5 & 0.346517 \\\\\n",
       "\t3 & 9 & 5) \\$500 - \\$750 & 675.07 & 1 & 1 & Rural & 1 & Phone & Mens E-Mail & 0 & 0 & 0.0 & 1 & 0.5 & 0.5 & 0.312707 \\\\\n",
       "\t4 & 2 & 2) \\$100 - \\$200 & 101.64 & 0 & 1 & Urban & 0 & Web & Mens E-Mail & 1 & 0 & 0.0 & 1 & 0.5 & 0.5 & 0.00790928 \\\\\n",
       "\t5 & 4 & 3) \\$200 - \\$350 & 241.42 & 0 & 1 & Rural & 1 & Multichannel & No E-Mail & 0 & 0 & 0.0 & 0 & 0.5 & 0.5 & 0.488613 \\\\\n",
       "\t6 & 3 & 1) \\$0 - \\$100 & 58.13 & 1 & 0 & Urban & 1 & Web & No E-Mail & 1 & 0 & 0.0 & 0 & 0.5 & 0.5 & 0.210968 \\\\\n",
       "\t7 & 9 & 2) \\$100 - \\$200 & 112.35 & 1 & 0 & Rural & 0 & Web & Mens E-Mail & 0 & 0 & 0.0 & 1 & 1 & 1 & 0.999905 \\\\\n",
       "\t8 & 11 & 3) \\$200 - \\$350 & 219.04 & 1 & 1 & Surburban & 0 & Phone & Mens E-Mail & 0 & 0 & 0.0 & 1 & 1 & 1 & 0.251662 \\\\\n",
       "\t9 & 9 & 1) \\$0 - \\$100 & 29.99 & 0 & 1 & Surburban & 1 & Phone & No E-Mail & 0 & 0 & 0.0 & 0 & 1 & 1 & 0.555751 \\\\\n",
       "\t10 & 11 & 2) \\$100 - \\$200 & 182.32 & 1 & 0 & Surburban & 0 & Phone & Mens E-Mail & 0 & 0 & 0.0 & 1 & 1 & 1 & 0.437108 \\\\\n",
       "\t11 & 2 & 2) \\$100 - \\$200 & 118.4 & 1 & 0 & Surburban & 0 & Web & Mens E-Mail & 1 & 0 & 0.0 & 1 & 0.5 & 0.5 & 0.424718 \\\\\n",
       "\t12 & 4 & 1) \\$0 - \\$100 & 78.24 & 1 & 0 & Surburban & 0 & Web & No E-Mail & 0 & 0 & 0.0 & 0 & 0.5 & 0.5 & 0.28119 \\\\\n",
       "\t13 & 6 & 2) \\$100 - \\$200 & 139.87 & 0 & 1 & Rural & 1 & Web & Mens E-Mail & 0 & 0 & 0.0 & 1 & 1 & 1 & 0.209472 \\\\\n",
       "\t14 & 12 & 2) \\$100 - \\$200 & 115.39 & 0 & 1 & Surburban & 0 & Phone & Mens E-Mail & 1 & 0 & 0.0 & 1 & 1 & 1 & 0.251379 \\\\\n",
       "\t15 & 6 & 2) \\$100 - \\$200 & 162.98 & 0 & 1 & Surburban & 0 & Web & Mens E-Mail & 0 & 0 & 0.0 & 1 & 1 & 1 & 0.0203749 \\\\\n",
       "\t16 & 7 & 4) \\$350 - \\$500 & 435.73 & 0 & 1 & Urban & 1 & Web & No E-Mail & 0 & 0 & 0.0 & 0 & 0.5 & 0.5 & 0.287702 \\\\\n",
       "\t17 & 9 & 3) \\$200 - \\$350 & 334.24 & 1 & 0 & Urban & 0 & Web & Mens E-Mail & 0 & 0 & 0.0 & 1 & 0.5 & 0.5 & 0.0769509 \\\\\n",
       "\t18 & 6 & 2) \\$100 - \\$200 & 128.01 & 0 & 1 & Urban & 0 & Web & Mens E-Mail & 0 & 0 & 0.0 & 1 & 1 & 1 & 0.640396 \\\\\n",
       "\t19 & 9 & 1) \\$0 - \\$100 & 29.99 & 1 & 0 & Surburban & 1 & Phone & Mens E-Mail & 0 & 0 & 0.0 & 1 & 1 & 1 & 0.873544 \\\\\n",
       "\t20 & 1 & 5) \\$500 - \\$750 & 514.52 & 0 & 1 & Surburban & 1 & Web & Mens E-Mail & 0 & 0 & 0.0 & 1 & 0.5 & 0.5 & 0.278582 \\\\\n",
       "\t21 & 11 & 3) \\$200 - \\$350 & 236.97 & 1 & 1 & Urban & 1 & Phone & Mens E-Mail & 0 & 0 & 0.0 & 1 & 1 & 1 & 0.0778264 \\\\\n",
       "\t22 & 2 & 4) \\$350 - \\$500 & 492.02 & 1 & 0 & Surburban & 0 & Phone & No E-Mail & 0 & 0 & 0.0 & 0 & 0.5 & 0.5 & 0.0856352 \\\\\n",
       "\t23 & 10 & 1) \\$0 - \\$100 & 29.99 & 1 & 0 & Surburban & 0 & Phone & No E-Mail & 0 & 0 & 0.0 & 0 & 1 & 1 & 0.46335 \\\\\n",
       "\t24 & 2 & 4) \\$350 - \\$500 & 391.33 & 1 & 0 & Surburban & 0 & Web & No E-Mail & 0 & 0 & 0.0 & 0 & 0.5 & 0.5 & 0.185821 \\\\\n",
       "\t25 & 1 & 5) \\$500 - \\$750 & 729.7 & 1 & 1 & Surburban & 1 & Web & Mens E-Mail & 0 & 0 & 0.0 & 1 & 0.5 & 0.5 & 0.111981 \\\\\n",
       "\t26 & 9 & 2) \\$100 - \\$200 & 185.43 & 1 & 0 & Urban & 0 & Web & Mens E-Mail & 0 & 0 & 0.0 & 1 & 1 & 1 & 0.0516146 \\\\\n",
       "\t27 & 7 & 1) \\$0 - \\$100 & 29.99 & 0 & 1 & Urban & 1 & Phone & Mens E-Mail & 0 & 0 & 0.0 & 1 & 1 & 1 & 0.53803 \\\\\n",
       "\t28 & 9 & 1) \\$0 - \\$100 & 78.62 & 1 & 0 & Urban & 0 & Web & Mens E-Mail & 0 & 0 & 0.0 & 1 & 1 & 1 & 0.455692 \\\\\n",
       "\t29 & 12 & 2) \\$100 - \\$200 & 150.06 & 0 & 1 & Surburban & 0 & Phone & No E-Mail & 0 & 0 & 0.0 & 0 & 1 & 1 & 0.279395 \\\\\n",
       "\t30 & 6 & 1) \\$0 - \\$100 & 42.66 & 1 & 0 & Surburban & 0 & Web & No E-Mail & 0 & 0 & 0.0 & 0 & 1 & 1 & 0.178246 \\\\\n",
       "\t$\\dots$ & $\\dots$ & $\\dots$ & $\\dots$ & $\\dots$ & $\\dots$ & $\\dots$ & $\\dots$ & $\\dots$ & $\\dots$ & $\\dots$ & $\\dots$ & $\\dots$ & $\\dots$ & $\\dots$ & $\\dots$ & $\\dots$ \\\\\n",
       "\\end{tabular}\n"
      ],
      "text/plain": [
       "29575×16 DataFrame. Omitted printing of 10 columns\n",
       "│ Row   │ recency │ history_segment │ history  │ mens   │ womens │ zip_code  │\n",
       "│       │ \u001b[90mInt64⍰\u001b[39m  │ \u001b[90mString⍰\u001b[39m         │ \u001b[90mFloat64⍰\u001b[39m │ \u001b[90mInt64⍰\u001b[39m │ \u001b[90mInt64⍰\u001b[39m │ \u001b[90mString⍰\u001b[39m   │\n",
       "├───────┼─────────┼─────────────────┼──────────┼────────┼────────┼───────────┤\n",
       "│ 1     │ 6       │ 3) $200 - $350  │ 329.08   │ 1      │ 1      │ Rural     │\n",
       "│ 2     │ 9       │ 5) $500 - $750  │ 675.83   │ 1      │ 0      │ Rural     │\n",
       "│ 3     │ 9       │ 5) $500 - $750  │ 675.07   │ 1      │ 1      │ Rural     │\n",
       "│ 4     │ 2       │ 2) $100 - $200  │ 101.64   │ 0      │ 1      │ Urban     │\n",
       "│ 5     │ 4       │ 3) $200 - $350  │ 241.42   │ 0      │ 1      │ Rural     │\n",
       "│ 6     │ 3       │ 1) $0 - $100    │ 58.13    │ 1      │ 0      │ Urban     │\n",
       "│ 7     │ 9       │ 2) $100 - $200  │ 112.35   │ 1      │ 0      │ Rural     │\n",
       "│ 8     │ 11      │ 3) $200 - $350  │ 219.04   │ 1      │ 1      │ Surburban │\n",
       "│ 9     │ 9       │ 1) $0 - $100    │ 29.99    │ 0      │ 1      │ Surburban │\n",
       "│ 10    │ 11      │ 2) $100 - $200  │ 182.32   │ 1      │ 0      │ Surburban │\n",
       "⋮\n",
       "│ 29565 │ 10      │ 2) $100 - $200  │ 102.01   │ 0      │ 1      │ Urban     │\n",
       "│ 29566 │ 10      │ 2) $100 - $200  │ 168.21   │ 0      │ 1      │ Surburban │\n",
       "│ 29567 │ 3       │ 4) $350 - $500  │ 487.1    │ 0      │ 1      │ Surburban │\n",
       "│ 29568 │ 4       │ 2) $100 - $200  │ 125.53   │ 0      │ 1      │ Rural     │\n",
       "│ 29569 │ 2       │ 1) $0 - $100    │ 83.03    │ 0      │ 1      │ Urban     │\n",
       "│ 29570 │ 9       │ 1) $0 - $100    │ 29.99    │ 1      │ 0      │ Urban     │\n",
       "│ 29571 │ 6       │ 1) $0 - $100    │ 32.98    │ 1      │ 0      │ Surburban │\n",
       "│ 29572 │ 6       │ 1) $0 - $100    │ 80.02    │ 0      │ 1      │ Surburban │\n",
       "│ 29573 │ 7       │ 1) $0 - $100    │ 86.46    │ 0      │ 1      │ Urban     │\n",
       "│ 29574 │ 10      │ 2) $100 - $200  │ 105.54   │ 1      │ 0      │ Urban     │\n",
       "│ 29575 │ 6       │ 1) $0 - $100    │ 29.99    │ 1      │ 0      │ Urban     │"
      ]
     },
     "execution_count": 68,
     "metadata": {},
     "output_type": "execute_result"
    }
   ],
   "source": [
    "biased_data = male_df[((male_df.treatment .== 0) .& (male_df.random_number .< male_df.obs_rate_c)) .| ((male_df.treatment .== 1) .& (male_df.random_number .< male_df.obs_rate_t)),:]"
   ]
  },
  {
   "cell_type": "code",
   "execution_count": 69,
   "metadata": {},
   "outputs": [
    {
     "data": {
      "text/html": [
       "<table class=\"data-frame\"><thead><tr><th></th><th>treatment</th><th>conversion_rate</th><th>spend_mean</th><th>count</th></tr><tr><th></th><th>Int64</th><th>Float64</th><th>Float64</th><th>Int64</th></tr></thead><tbody><p>2 rows × 4 columns</p><tr><th>1</th><td>0</td><td>0.00548001</td><td>0.664734</td><td>14781</td></tr><tr><th>2</th><td>1</td><td>0.011356</td><td>1.33221</td><td>14794</td></tr></tbody></table>"
      ],
      "text/latex": [
       "\\begin{tabular}{r|cccc}\n",
       "\t& treatment & conversion\\_rate & spend\\_mean & count\\\\\n",
       "\t\\hline\n",
       "\t& Int64 & Float64 & Float64 & Int64\\\\\n",
       "\t\\hline\n",
       "\t1 & 0 & 0.00548001 & 0.664734 & 14781 \\\\\n",
       "\t2 & 1 & 0.011356 & 1.33221 & 14794 \\\\\n",
       "\\end{tabular}\n"
      ],
      "text/plain": [
       "2×4 DataFrame\n",
       "│ Row │ treatment │ conversion_rate │ spend_mean │ count │\n",
       "│     │ \u001b[90mInt64\u001b[39m     │ \u001b[90mFloat64\u001b[39m         │ \u001b[90mFloat64\u001b[39m    │ \u001b[90mInt64\u001b[39m │\n",
       "├─────┼───────────┼─────────────────┼────────────┼───────┤\n",
       "│ 1   │ 0         │ 0.00548001      │ 0.664734   │ 14781 │\n",
       "│ 2   │ 1         │ 0.011356        │ 1.33221    │ 14794 │"
      ]
     },
     "execution_count": 69,
     "metadata": {},
     "output_type": "execute_result"
    }
   ],
   "source": [
    "# (8) セレクションバイアスのあるデータで平均を比較\n",
    "summary_by_segment_biased = @linq biased_data |> by(:treatment, conversion_rate=mean(:conversion), spend_mean=mean(:spend), count=size(:treatment,1))"
   ]
  },
  {
   "cell_type": "code",
   "execution_count": 70,
   "metadata": {},
   "outputs": [
    {
     "data": {
      "text/html": [
       "<table class=\"data-frame\"><thead><tr><th></th><th>treatment</th><th>conversion_rate</th><th>spend_mean</th><th>count</th></tr><tr><th></th><th>Int64</th><th>Float64</th><th>Float64</th><th>Int64</th></tr></thead><tbody><p>2 rows × 4 columns</p><tr><th>1</th><td>0</td><td>0.00548001</td><td>0.664734</td><td>14781</td></tr><tr><th>2</th><td>1</td><td>0.011356</td><td>1.33221</td><td>14794</td></tr></tbody></table>"
      ],
      "text/latex": [
       "\\begin{tabular}{r|cccc}\n",
       "\t& treatment & conversion\\_rate & spend\\_mean & count\\\\\n",
       "\t\\hline\n",
       "\t& Int64 & Float64 & Float64 & Int64\\\\\n",
       "\t\\hline\n",
       "\t1 & 0 & 0.00548001 & 0.664734 & 14781 \\\\\n",
       "\t2 & 1 & 0.011356 & 1.33221 & 14794 \\\\\n",
       "\\end{tabular}\n"
      ],
      "text/plain": [
       "2×4 DataFrame\n",
       "│ Row │ treatment │ conversion_rate │ spend_mean │ count │\n",
       "│     │ \u001b[90mInt64\u001b[39m     │ \u001b[90mFloat64\u001b[39m         │ \u001b[90mFloat64\u001b[39m    │ \u001b[90mInt64\u001b[39m │\n",
       "├─────┼───────────┼─────────────────┼────────────┼───────┤\n",
       "│ 1   │ 0         │ 0.00548001      │ 0.664734   │ 14781 │\n",
       "│ 2   │ 1         │ 0.011356        │ 1.33221    │ 14794 │"
      ]
     },
     "execution_count": 70,
     "metadata": {},
     "output_type": "execute_result"
    }
   ],
   "source": [
    "summary_by_segment_biased"
   ]
  },
  {
   "cell_type": "code",
   "execution_count": 71,
   "metadata": {},
   "outputs": [
    {
     "data": {
      "text/html": [
       "<table class=\"data-frame\"><thead><tr><th></th><th>spend</th></tr><tr><th></th><th>Float64⍰</th></tr></thead><tbody><p>14,794 rows × 1 columns</p><tr><th>1</th><td>0.0</td></tr><tr><th>2</th><td>0.0</td></tr><tr><th>3</th><td>0.0</td></tr><tr><th>4</th><td>0.0</td></tr><tr><th>5</th><td>0.0</td></tr><tr><th>6</th><td>0.0</td></tr><tr><th>7</th><td>0.0</td></tr><tr><th>8</th><td>0.0</td></tr><tr><th>9</th><td>0.0</td></tr><tr><th>10</th><td>0.0</td></tr><tr><th>11</th><td>0.0</td></tr><tr><th>12</th><td>0.0</td></tr><tr><th>13</th><td>0.0</td></tr><tr><th>14</th><td>0.0</td></tr><tr><th>15</th><td>0.0</td></tr><tr><th>16</th><td>0.0</td></tr><tr><th>17</th><td>0.0</td></tr><tr><th>18</th><td>0.0</td></tr><tr><th>19</th><td>0.0</td></tr><tr><th>20</th><td>0.0</td></tr><tr><th>21</th><td>0.0</td></tr><tr><th>22</th><td>0.0</td></tr><tr><th>23</th><td>0.0</td></tr><tr><th>24</th><td>0.0</td></tr><tr><th>25</th><td>0.0</td></tr><tr><th>26</th><td>0.0</td></tr><tr><th>27</th><td>0.0</td></tr><tr><th>28</th><td>0.0</td></tr><tr><th>29</th><td>0.0</td></tr><tr><th>30</th><td>0.0</td></tr><tr><th>&vellip;</th><td>&vellip;</td></tr></tbody></table>"
      ],
      "text/latex": [
       "\\begin{tabular}{r|c}\n",
       "\t& spend\\\\\n",
       "\t\\hline\n",
       "\t& Float64⍰\\\\\n",
       "\t\\hline\n",
       "\t1 & 0.0 \\\\\n",
       "\t2 & 0.0 \\\\\n",
       "\t3 & 0.0 \\\\\n",
       "\t4 & 0.0 \\\\\n",
       "\t5 & 0.0 \\\\\n",
       "\t6 & 0.0 \\\\\n",
       "\t7 & 0.0 \\\\\n",
       "\t8 & 0.0 \\\\\n",
       "\t9 & 0.0 \\\\\n",
       "\t10 & 0.0 \\\\\n",
       "\t11 & 0.0 \\\\\n",
       "\t12 & 0.0 \\\\\n",
       "\t13 & 0.0 \\\\\n",
       "\t14 & 0.0 \\\\\n",
       "\t15 & 0.0 \\\\\n",
       "\t16 & 0.0 \\\\\n",
       "\t17 & 0.0 \\\\\n",
       "\t18 & 0.0 \\\\\n",
       "\t19 & 0.0 \\\\\n",
       "\t20 & 0.0 \\\\\n",
       "\t21 & 0.0 \\\\\n",
       "\t22 & 0.0 \\\\\n",
       "\t23 & 0.0 \\\\\n",
       "\t24 & 0.0 \\\\\n",
       "\t25 & 0.0 \\\\\n",
       "\t26 & 0.0 \\\\\n",
       "\t27 & 0.0 \\\\\n",
       "\t28 & 0.0 \\\\\n",
       "\t29 & 0.0 \\\\\n",
       "\t30 & 0.0 \\\\\n",
       "\t$\\dots$ & $\\dots$ \\\\\n",
       "\\end{tabular}\n"
      ],
      "text/plain": [
       "14794×1 DataFrame\n",
       "│ Row   │ spend    │\n",
       "│       │ \u001b[90mFloat64⍰\u001b[39m │\n",
       "├───────┼──────────┤\n",
       "│ 1     │ 0.0      │\n",
       "│ 2     │ 0.0      │\n",
       "│ 3     │ 0.0      │\n",
       "│ 4     │ 0.0      │\n",
       "│ 5     │ 0.0      │\n",
       "│ 6     │ 0.0      │\n",
       "│ 7     │ 0.0      │\n",
       "│ 8     │ 0.0      │\n",
       "│ 9     │ 0.0      │\n",
       "│ 10    │ 0.0      │\n",
       "⋮\n",
       "│ 14784 │ 0.0      │\n",
       "│ 14785 │ 0.0      │\n",
       "│ 14786 │ 0.0      │\n",
       "│ 14787 │ 0.0      │\n",
       "│ 14788 │ 0.0      │\n",
       "│ 14789 │ 0.0      │\n",
       "│ 14790 │ 0.0      │\n",
       "│ 14791 │ 0.0      │\n",
       "│ 14792 │ 0.0      │\n",
       "│ 14793 │ 0.0      │\n",
       "│ 14794 │ 0.0      │"
      ]
     },
     "execution_count": 71,
     "metadata": {},
     "output_type": "execute_result"
    }
   ],
   "source": [
    "# (9) Rの関数であるt.testを使ってt検定を行う(Biased)\n",
    "## (a)男性向けメールが配信されたグループの購買データを得る\n",
    "mens_mail_biased = @linq biased_data |> where(:treatment .== 1) |> select(:spend)"
   ]
  },
  {
   "cell_type": "code",
   "execution_count": 72,
   "metadata": {},
   "outputs": [
    {
     "data": {
      "text/html": [
       "<table class=\"data-frame\"><thead><tr><th></th><th>spend</th></tr><tr><th></th><th>Float64⍰</th></tr></thead><tbody><p>14,781 rows × 1 columns</p><tr><th>1</th><td>0.0</td></tr><tr><th>2</th><td>0.0</td></tr><tr><th>3</th><td>0.0</td></tr><tr><th>4</th><td>0.0</td></tr><tr><th>5</th><td>0.0</td></tr><tr><th>6</th><td>0.0</td></tr><tr><th>7</th><td>0.0</td></tr><tr><th>8</th><td>0.0</td></tr><tr><th>9</th><td>0.0</td></tr><tr><th>10</th><td>0.0</td></tr><tr><th>11</th><td>0.0</td></tr><tr><th>12</th><td>0.0</td></tr><tr><th>13</th><td>0.0</td></tr><tr><th>14</th><td>0.0</td></tr><tr><th>15</th><td>0.0</td></tr><tr><th>16</th><td>0.0</td></tr><tr><th>17</th><td>0.0</td></tr><tr><th>18</th><td>0.0</td></tr><tr><th>19</th><td>0.0</td></tr><tr><th>20</th><td>0.0</td></tr><tr><th>21</th><td>0.0</td></tr><tr><th>22</th><td>0.0</td></tr><tr><th>23</th><td>0.0</td></tr><tr><th>24</th><td>0.0</td></tr><tr><th>25</th><td>0.0</td></tr><tr><th>26</th><td>0.0</td></tr><tr><th>27</th><td>0.0</td></tr><tr><th>28</th><td>0.0</td></tr><tr><th>29</th><td>0.0</td></tr><tr><th>30</th><td>0.0</td></tr><tr><th>&vellip;</th><td>&vellip;</td></tr></tbody></table>"
      ],
      "text/latex": [
       "\\begin{tabular}{r|c}\n",
       "\t& spend\\\\\n",
       "\t\\hline\n",
       "\t& Float64⍰\\\\\n",
       "\t\\hline\n",
       "\t1 & 0.0 \\\\\n",
       "\t2 & 0.0 \\\\\n",
       "\t3 & 0.0 \\\\\n",
       "\t4 & 0.0 \\\\\n",
       "\t5 & 0.0 \\\\\n",
       "\t6 & 0.0 \\\\\n",
       "\t7 & 0.0 \\\\\n",
       "\t8 & 0.0 \\\\\n",
       "\t9 & 0.0 \\\\\n",
       "\t10 & 0.0 \\\\\n",
       "\t11 & 0.0 \\\\\n",
       "\t12 & 0.0 \\\\\n",
       "\t13 & 0.0 \\\\\n",
       "\t14 & 0.0 \\\\\n",
       "\t15 & 0.0 \\\\\n",
       "\t16 & 0.0 \\\\\n",
       "\t17 & 0.0 \\\\\n",
       "\t18 & 0.0 \\\\\n",
       "\t19 & 0.0 \\\\\n",
       "\t20 & 0.0 \\\\\n",
       "\t21 & 0.0 \\\\\n",
       "\t22 & 0.0 \\\\\n",
       "\t23 & 0.0 \\\\\n",
       "\t24 & 0.0 \\\\\n",
       "\t25 & 0.0 \\\\\n",
       "\t26 & 0.0 \\\\\n",
       "\t27 & 0.0 \\\\\n",
       "\t28 & 0.0 \\\\\n",
       "\t29 & 0.0 \\\\\n",
       "\t30 & 0.0 \\\\\n",
       "\t$\\dots$ & $\\dots$ \\\\\n",
       "\\end{tabular}\n"
      ],
      "text/plain": [
       "14781×1 DataFrame\n",
       "│ Row   │ spend    │\n",
       "│       │ \u001b[90mFloat64⍰\u001b[39m │\n",
       "├───────┼──────────┤\n",
       "│ 1     │ 0.0      │\n",
       "│ 2     │ 0.0      │\n",
       "│ 3     │ 0.0      │\n",
       "│ 4     │ 0.0      │\n",
       "│ 5     │ 0.0      │\n",
       "│ 6     │ 0.0      │\n",
       "│ 7     │ 0.0      │\n",
       "│ 8     │ 0.0      │\n",
       "│ 9     │ 0.0      │\n",
       "│ 10    │ 0.0      │\n",
       "⋮\n",
       "│ 14771 │ 0.0      │\n",
       "│ 14772 │ 0.0      │\n",
       "│ 14773 │ 0.0      │\n",
       "│ 14774 │ 0.0      │\n",
       "│ 14775 │ 0.0      │\n",
       "│ 14776 │ 0.0      │\n",
       "│ 14777 │ 0.0      │\n",
       "│ 14778 │ 0.0      │\n",
       "│ 14779 │ 0.0      │\n",
       "│ 14780 │ 0.0      │\n",
       "│ 14781 │ 0.0      │"
      ]
     },
     "execution_count": 72,
     "metadata": {},
     "output_type": "execute_result"
    }
   ],
   "source": [
    "## (b)メールが配信されなかったグループの購買データを得る\n",
    "no_mail_biased = @linq biased_data |> where(:treatment .== 0) |> select(:spend)"
   ]
  },
  {
   "cell_type": "code",
   "execution_count": 73,
   "metadata": {},
   "outputs": [
    {
     "data": {
      "text/plain": [
       "Two sample t-test (equal variance)\n",
       "----------------------------------\n",
       "Population details:\n",
       "    parameter of interest:   Mean difference\n",
       "    value under h_0:         0\n",
       "    point estimate:          0.6674799548510777\n",
       "    95% confidence interval: (0.3306, 1.0044)\n",
       "\n",
       "Test summary:\n",
       "    outcome with 95% confidence: reject h_0\n",
       "    two-sided p-value:           0.0001\n",
       "\n",
       "Details:\n",
       "    number of observations:   [14794,14781]\n",
       "    t-statistic:              3.883417523607935\n",
       "    degrees of freedom:       29573\n",
       "    empirical standard error: 0.17187952384551933\n"
      ]
     },
     "execution_count": 73,
     "metadata": {},
     "output_type": "execute_result"
    }
   ],
   "source": [
    "## (a)(b)の平均の差に対して有意差検定を実行する\n",
    "rct_ttest_biased = EqualVarianceTTest(disallowmissing(mens_mail_biased.spend), disallowmissing(no_mail_biased.spend))"
   ]
  },
  {
   "cell_type": "code",
   "execution_count": 74,
   "metadata": {},
   "outputs": [
    {
     "data": {
      "text/plain": [
       "0.00010322238013435785"
      ]
     },
     "execution_count": 74,
     "metadata": {},
     "output_type": "execute_result"
    }
   ],
   "source": [
    "pvalue(rct_ttest_biased)"
   ]
  },
  {
   "cell_type": "code",
   "execution_count": null,
   "metadata": {},
   "outputs": [],
   "source": []
  }
 ],
 "metadata": {
  "kernelspec": {
   "display_name": "Julia 1.0.3 (4 threads)",
   "language": "julia",
   "name": "julia-1.0k"
  },
  "language_info": {
   "file_extension": ".jl",
   "mimetype": "application/julia",
   "name": "julia",
   "version": "1.0.3"
  }
 },
 "nbformat": 4,
 "nbformat_minor": 2
}
